{
  "cells": [
    {
      "cell_type": "code",
      "execution_count": 1,
      "metadata": {
        "id": "Xg9SEHNNWIBI"
      },
      "outputs": [],
      "source": [
        "#importing basic packages\n",
        "import pandas as pd\n",
        "import numpy as np\n",
        "import matplotlib.pyplot as plt"
      ]
    },
    {
      "cell_type": "code",
      "execution_count": 2,
      "metadata": {
        "id": "CYtjMRR0WIBK"
      },
      "outputs": [],
      "source": [
        "data = pd.read_csv('Training Dataset.arff', header=None, comment='@')\n",
        "# data = pd.read_csv(\"urldata.csv\")\n",
        "# data = data.drop(['Domain'], axis = 1).copy()"
      ]
    },
    {
      "cell_type": "code",
      "execution_count": 3,
      "metadata": {
        "colab": {
          "base_uri": "https://localhost:8080/"
        },
        "id": "hO6PRwlSWIBL",
        "outputId": "3a3c6092-5d49-4ff6-d5ff-75535b7fd726"
      },
      "outputs": [
        {
          "data": {
            "text/plain": [
              "0     0\n",
              "1     0\n",
              "2     0\n",
              "3     0\n",
              "4     0\n",
              "5     0\n",
              "6     0\n",
              "7     0\n",
              "8     0\n",
              "9     0\n",
              "10    0\n",
              "11    0\n",
              "12    0\n",
              "13    0\n",
              "14    0\n",
              "15    0\n",
              "16    0\n",
              "17    0\n",
              "18    0\n",
              "19    0\n",
              "20    0\n",
              "21    0\n",
              "22    0\n",
              "23    0\n",
              "24    0\n",
              "25    0\n",
              "26    0\n",
              "27    0\n",
              "28    0\n",
              "29    0\n",
              "30    0\n",
              "dtype: int64"
            ]
          },
          "execution_count": 3,
          "metadata": {},
          "output_type": "execute_result"
        }
      ],
      "source": [
        "data.isnull().sum()"
      ]
    },
    {
      "cell_type": "code",
      "execution_count": 4,
      "metadata": {
        "colab": {
          "base_uri": "https://localhost:8080/",
          "height": 299
        },
        "id": "7KyLXN44WIBL",
        "outputId": "725f247c-ee1c-4930-c957-b53abe9f2b5c"
      },
      "outputs": [
        {
          "data": {
            "text/html": [
              "<div>\n",
              "<style scoped>\n",
              "    .dataframe tbody tr th:only-of-type {\n",
              "        vertical-align: middle;\n",
              "    }\n",
              "\n",
              "    .dataframe tbody tr th {\n",
              "        vertical-align: top;\n",
              "    }\n",
              "\n",
              "    .dataframe thead th {\n",
              "        text-align: right;\n",
              "    }\n",
              "</style>\n",
              "<table border=\"1\" class=\"dataframe\">\n",
              "  <thead>\n",
              "    <tr style=\"text-align: right;\">\n",
              "      <th></th>\n",
              "      <th>0</th>\n",
              "      <th>1</th>\n",
              "      <th>2</th>\n",
              "      <th>3</th>\n",
              "      <th>4</th>\n",
              "      <th>5</th>\n",
              "      <th>6</th>\n",
              "      <th>7</th>\n",
              "      <th>8</th>\n",
              "      <th>9</th>\n",
              "      <th>...</th>\n",
              "      <th>21</th>\n",
              "      <th>22</th>\n",
              "      <th>23</th>\n",
              "      <th>24</th>\n",
              "      <th>25</th>\n",
              "      <th>26</th>\n",
              "      <th>27</th>\n",
              "      <th>28</th>\n",
              "      <th>29</th>\n",
              "      <th>30</th>\n",
              "    </tr>\n",
              "  </thead>\n",
              "  <tbody>\n",
              "    <tr>\n",
              "      <th>0</th>\n",
              "      <td>1</td>\n",
              "      <td>-1</td>\n",
              "      <td>1</td>\n",
              "      <td>1</td>\n",
              "      <td>1</td>\n",
              "      <td>-1</td>\n",
              "      <td>0</td>\n",
              "      <td>-1</td>\n",
              "      <td>-1</td>\n",
              "      <td>1</td>\n",
              "      <td>...</td>\n",
              "      <td>1</td>\n",
              "      <td>1</td>\n",
              "      <td>-1</td>\n",
              "      <td>1</td>\n",
              "      <td>1</td>\n",
              "      <td>-1</td>\n",
              "      <td>1</td>\n",
              "      <td>0</td>\n",
              "      <td>1</td>\n",
              "      <td>1</td>\n",
              "    </tr>\n",
              "    <tr>\n",
              "      <th>1</th>\n",
              "      <td>-1</td>\n",
              "      <td>-1</td>\n",
              "      <td>1</td>\n",
              "      <td>-1</td>\n",
              "      <td>1</td>\n",
              "      <td>-1</td>\n",
              "      <td>1</td>\n",
              "      <td>-1</td>\n",
              "      <td>1</td>\n",
              "      <td>-1</td>\n",
              "      <td>...</td>\n",
              "      <td>-1</td>\n",
              "      <td>-1</td>\n",
              "      <td>1</td>\n",
              "      <td>1</td>\n",
              "      <td>-1</td>\n",
              "      <td>-1</td>\n",
              "      <td>1</td>\n",
              "      <td>1</td>\n",
              "      <td>-1</td>\n",
              "      <td>-1</td>\n",
              "    </tr>\n",
              "    <tr>\n",
              "      <th>2</th>\n",
              "      <td>1</td>\n",
              "      <td>-1</td>\n",
              "      <td>1</td>\n",
              "      <td>1</td>\n",
              "      <td>1</td>\n",
              "      <td>1</td>\n",
              "      <td>1</td>\n",
              "      <td>1</td>\n",
              "      <td>1</td>\n",
              "      <td>1</td>\n",
              "      <td>...</td>\n",
              "      <td>-1</td>\n",
              "      <td>1</td>\n",
              "      <td>1</td>\n",
              "      <td>1</td>\n",
              "      <td>1</td>\n",
              "      <td>-1</td>\n",
              "      <td>1</td>\n",
              "      <td>0</td>\n",
              "      <td>1</td>\n",
              "      <td>1</td>\n",
              "    </tr>\n",
              "    <tr>\n",
              "      <th>3</th>\n",
              "      <td>-1</td>\n",
              "      <td>-1</td>\n",
              "      <td>-1</td>\n",
              "      <td>1</td>\n",
              "      <td>-1</td>\n",
              "      <td>-1</td>\n",
              "      <td>-1</td>\n",
              "      <td>1</td>\n",
              "      <td>-1</td>\n",
              "      <td>1</td>\n",
              "      <td>...</td>\n",
              "      <td>1</td>\n",
              "      <td>1</td>\n",
              "      <td>1</td>\n",
              "      <td>-1</td>\n",
              "      <td>1</td>\n",
              "      <td>1</td>\n",
              "      <td>1</td>\n",
              "      <td>1</td>\n",
              "      <td>1</td>\n",
              "      <td>1</td>\n",
              "    </tr>\n",
              "    <tr>\n",
              "      <th>4</th>\n",
              "      <td>-1</td>\n",
              "      <td>1</td>\n",
              "      <td>-1</td>\n",
              "      <td>1</td>\n",
              "      <td>-1</td>\n",
              "      <td>-1</td>\n",
              "      <td>-1</td>\n",
              "      <td>0</td>\n",
              "      <td>-1</td>\n",
              "      <td>1</td>\n",
              "      <td>...</td>\n",
              "      <td>1</td>\n",
              "      <td>1</td>\n",
              "      <td>1</td>\n",
              "      <td>-1</td>\n",
              "      <td>1</td>\n",
              "      <td>1</td>\n",
              "      <td>-1</td>\n",
              "      <td>1</td>\n",
              "      <td>-1</td>\n",
              "      <td>-1</td>\n",
              "    </tr>\n",
              "  </tbody>\n",
              "</table>\n",
              "<p>5 rows × 31 columns</p>\n",
              "</div>"
            ],
            "text/plain": [
              "   0   1   2   3   4   5   6   7   8   9   ...  21  22  23  24  25  26  27  \\\n",
              "0   1  -1   1   1   1  -1   0  -1  -1   1  ...   1   1  -1   1   1  -1   1   \n",
              "1  -1  -1   1  -1   1  -1   1  -1   1  -1  ...  -1  -1   1   1  -1  -1   1   \n",
              "2   1  -1   1   1   1   1   1   1   1   1  ...  -1   1   1   1   1  -1   1   \n",
              "3  -1  -1  -1   1  -1  -1  -1   1  -1   1  ...   1   1   1  -1   1   1   1   \n",
              "4  -1   1  -1   1  -1  -1  -1   0  -1   1  ...   1   1   1  -1   1   1  -1   \n",
              "\n",
              "   28  29  30  \n",
              "0   0   1   1  \n",
              "1   1  -1  -1  \n",
              "2   0   1   1  \n",
              "3   1   1   1  \n",
              "4   1  -1  -1  \n",
              "\n",
              "[5 rows x 31 columns]"
            ]
          },
          "execution_count": 4,
          "metadata": {},
          "output_type": "execute_result"
        }
      ],
      "source": [
        "# shuffling the rows in the dataset so that when splitting the train and test set are equally distributed\n",
        "data = data.sample(frac=1).reset_index(drop=True)\n",
        "data.head()"
      ]
    },
    {
      "cell_type": "code",
      "execution_count": 5,
      "metadata": {
        "id": "jxGoLTP1WIBL"
      },
      "outputs": [],
      "source": [
        "# Sepratating & assigning features and target columns to X & y\n",
        "# y = data['Label']\n",
        "# X = data.drop('Label',axis=1)\n",
        "X = data.iloc[:, :-1]\n",
        "y = data.iloc[:, -1]\n",
        "from sklearn.preprocessing import LabelEncoder\n",
        "le = LabelEncoder()\n",
        "y = le.fit_transform(y)"
      ]
    },
    {
      "cell_type": "code",
      "execution_count": 6,
      "metadata": {
        "id": "pWRjI9qGWIBM"
      },
      "outputs": [],
      "source": [
        "X.shape, y.shape\n",
        "\n",
        "column_name=list(X.columns)"
      ]
    },
    {
      "cell_type": "code",
      "execution_count": 7,
      "metadata": {
        "colab": {
          "base_uri": "https://localhost:8080/"
        },
        "id": "4U4Rk9kpWIBM",
        "outputId": "e2079f25-3474-4211-99fe-599485560e07"
      },
      "outputs": [
        {
          "data": {
            "text/plain": [
              "((8844, 30), (2211, 30))"
            ]
          },
          "execution_count": 7,
          "metadata": {},
          "output_type": "execute_result"
        }
      ],
      "source": [
        "# Splitting the dataset into train and test sets: 80-20 split\n",
        "from sklearn.model_selection import train_test_split\n",
        "\n",
        "X_train, X_test, y_train, y_test = train_test_split(X, y, \n",
        "                                                    test_size = 0.2, random_state = 12)\n",
        "X_train.shape, X_test.shape"
      ]
    },
    {
      "cell_type": "markdown",
      "metadata": {
        "id": "0FSTKwT5WIBM"
      },
      "source": [
        "# Logistic Regression"
      ]
    },
    {
      "cell_type": "code",
      "execution_count": 8,
      "metadata": {
        "colab": {
          "base_uri": "https://localhost:8080/"
        },
        "id": "FBReXM7QWIBO",
        "outputId": "1e529846-0b8c-4ca7-99e4-0f4df813aa28"
      },
      "outputs": [
        {
          "name": "stdout",
          "output_type": "stream",
          "text": [
            "Logistic Regression: Accuracy on training Data: 92.809\n",
            "Logistic Regression: Accuracy on test Data: 92.537\n",
            "              precision    recall  f1-score   support\n",
            "\n",
            "           0       0.93      0.90      0.92       994\n",
            "           1       0.92      0.94      0.93      1217\n",
            "\n",
            "    accuracy                           0.93      2211\n",
            "   macro avg       0.93      0.92      0.92      2211\n",
            "weighted avg       0.93      0.93      0.93      2211\n",
            "\n"
          ]
        }
      ],
      "source": [
        "from sklearn.linear_model import LogisticRegression\n",
        "from sklearn.metrics import accuracy_score\n",
        "from sklearn.metrics import classification_report\n",
        "import warnings\n",
        "warnings.filterwarnings('ignore')\n",
        "\n",
        "logi=LogisticRegression()\n",
        "logi.fit(X_train, y_train)\n",
        "\n",
        "y_train_logi = logi.predict(X_train)\n",
        "y_test_logi =logi.predict(X_test)\n",
        "\n",
        "\n",
        "#computing the accuracy of the model performance\n",
        "acc_train_logi= accuracy_score(y_train,y_train_logi)\n",
        "acc_test_logi = accuracy_score(y_test,y_test_logi)\n",
        "\n",
        "print(\"Logistic Regression: Accuracy on training Data: {:.3f}\".format(acc_train_logi*100))\n",
        "print(\"Logistic Regression: Accuracy on test Data: {:.3f}\".format(acc_test_logi*100))\n",
        "\n",
        "print(classification_report(y_test, y_test_logi))"
      ]
    },
    {
      "cell_type": "code",
      "execution_count": 9,
      "metadata": {
        "colab": {
          "base_uri": "https://localhost:8080/"
        },
        "id": "oSID9_s8WIBO",
        "outputId": "78a49cd7-57c5-408a-a437-6fcc5afb7dab"
      },
      "outputs": [
        {
          "name": "stdout",
          "output_type": "stream",
          "text": [
            "Logistic K-Fold Accuracy: 92.741% (0.903%)\n"
          ]
        }
      ],
      "source": [
        "from sklearn.model_selection import KFold\n",
        "from sklearn.model_selection import cross_val_score\n",
        "kfold = KFold(n_splits=10, random_state=0, shuffle=True)\n",
        "results = cross_val_score(logi, X_train, y_train, cv=kfold)\n",
        "print(\"Logistic K-Fold Accuracy: %.3f%% (%.3f%%)\" % (results.mean()*100.0, results.std()*100.0))"
      ]
    },
    {
      "cell_type": "code",
      "execution_count": 10,
      "metadata": {
        "id": "qF8p5GjUWIBP"
      },
      "outputs": [
        {
          "name": "stdout",
          "output_type": "stream",
          "text": [
            "0 : Selected True, Rank: 1.000\n",
            "1 : Selected False, Rank: 3.000\n",
            "2 : Selected True, Rank: 1.000\n",
            "3 : Selected True, Rank: 1.000\n",
            "4 : Selected False, Rank: 6.000\n",
            "5 : Selected True, Rank: 1.000\n",
            "6 : Selected True, Rank: 1.000\n",
            "7 : Selected True, Rank: 1.000\n",
            "8 : Selected False, Rank: 8.000\n",
            "9 : Selected True, Rank: 1.000\n",
            "10 : Selected True, Rank: 1.000\n",
            "11 : Selected True, Rank: 1.000\n",
            "12 : Selected True, Rank: 1.000\n",
            "13 : Selected True, Rank: 1.000\n",
            "14 : Selected True, Rank: 1.000\n",
            "15 : Selected True, Rank: 1.000\n",
            "16 : Selected True, Rank: 1.000\n",
            "17 : Selected False, Rank: 2.000\n",
            "18 : Selected True, Rank: 1.000\n",
            "19 : Selected False, Rank: 5.000\n",
            "20 : Selected True, Rank: 1.000\n",
            "21 : Selected True, Rank: 1.000\n",
            "22 : Selected True, Rank: 1.000\n",
            "23 : Selected False, Rank: 7.000\n",
            "24 : Selected True, Rank: 1.000\n",
            "25 : Selected True, Rank: 1.000\n",
            "26 : Selected False, Rank: 4.000\n",
            "27 : Selected True, Rank: 1.000\n",
            "28 : Selected True, Rank: 1.000\n",
            "29 : Selected True, Rank: 1.000\n"
          ]
        }
      ],
      "source": [
        "from sklearn.feature_selection import RFECV\n",
        "\n",
        "## create ranking among all features by selecting only one\n",
        "rfecv = RFECV(estimator=logi, step=1, cv=20, scoring='accuracy')\n",
        "rfecv.fit(X_train, y_train)\n",
        "\n",
        "for i in range(X.shape[1]):\n",
        "    print(column_name[i],': Selected %s, Rank: %.3f' % (rfecv.support_[i], rfecv.ranking_[i]))"
      ]
    },
    {
      "cell_type": "code",
      "execution_count": 11,
      "metadata": {
        "id": "DS8_FoumWIBP"
      },
      "outputs": [
        {
          "data": {
            "text/plain": [
              "Int64Index([ 0,  2,  3,  5,  6,  7,  9, 10, 11, 12, 13, 14, 15, 16, 18, 20, 21,\n",
              "            22, 24, 25, 27, 28, 29],\n",
              "           dtype='int64')"
            ]
          },
          "execution_count": 11,
          "metadata": {},
          "output_type": "execute_result"
        }
      ],
      "source": [
        "X_train.columns[rfecv.support_]"
      ]
    },
    {
      "cell_type": "code",
      "execution_count": 12,
      "metadata": {
        "id": "GyjkDoySWIBP"
      },
      "outputs": [
        {
          "name": "stdout",
          "output_type": "stream",
          "text": [
            "Optimal number of features: 23\n"
          ]
        }
      ],
      "source": [
        "print('Optimal number of features: {}'.format(rfecv.n_features_))"
      ]
    },
    {
      "cell_type": "code",
      "execution_count": 13,
      "metadata": {
        "id": "nmVahOTqWIBQ"
      },
      "outputs": [
        {
          "name": "stdout",
          "output_type": "stream",
          "text": [
            "[0, 2, 3, 5, 6, 7, 9, 10, 11, 12, 13, 14, 15, 16, 18, 20, 21, 22, 24, 25, 27, 28, 29]\n"
          ]
        }
      ],
      "source": [
        "feature_importance = list(zip(column_name, rfecv.support_))\n",
        "new_features = []\n",
        "for key,value in enumerate(feature_importance):\n",
        "    if(value[1]) == True:\n",
        "        new_features.append(value[0])\n",
        "        \n",
        "print(new_features)"
      ]
    },
    {
      "cell_type": "code",
      "execution_count": 14,
      "metadata": {
        "id": "zW7caqg0WIBQ"
      },
      "outputs": [],
      "source": [
        "X_new = data[new_features]\n",
        "X_new.head()\n",
        "\n",
        "X_train_new, X_test_new, y_train, y_test = train_test_split(X_new, y, \n",
        "                                                    test_size = 0.2, random_state = 12)"
      ]
    },
    {
      "cell_type": "code",
      "execution_count": 15,
      "metadata": {
        "id": "nbtdB3syWIBR"
      },
      "outputs": [
        {
          "name": "stdout",
          "output_type": "stream",
          "text": [
            "Logistic Regression: Feature Selection Accuracy: 92.899\n",
            "              precision    recall  f1-score   support\n",
            "\n",
            "           0       0.94      0.90      0.92       994\n",
            "           1       0.92      0.95      0.94      1217\n",
            "\n",
            "    accuracy                           0.93      2211\n",
            "   macro avg       0.93      0.93      0.93      2211\n",
            "weighted avg       0.93      0.93      0.93      2211\n",
            "\n"
          ]
        }
      ],
      "source": [
        "logi = LogisticRegression(random_state=0)\n",
        "\n",
        "logi.fit(X_train_new,y_train)\n",
        "\n",
        "y_train_logi = logi.predict(X_train_new)\n",
        "y_test_logi =logi.predict(X_test_new)\n",
        "\n",
        "\n",
        "#computing the accuracy of the model performance\n",
        "acc_train_logi= accuracy_score(y_train,y_train_logi)\n",
        "acc_test_logi = accuracy_score(y_test,y_test_logi)\n",
        "\n",
        "# print(\"Logistic Regression: Accuracy on training Data: {:.3f}\".format(acc_train_logi))\n",
        "print(\"Logistic Regression: Feature Selection Accuracy: {:.3f}\".format(acc_test_logi*100.0))\n",
        "\n",
        "print(classification_report(y_test, y_test_logi))"
      ]
    },
    {
      "cell_type": "code",
      "execution_count": 16,
      "metadata": {
        "id": "lDwzYgGKWIBR"
      },
      "outputs": [
        {
          "name": "stdout",
          "output_type": "stream",
          "text": [
            "Fitting 20 folds for each of 84 candidates, totalling 1680 fits\n",
            "Best Score:0.9298964280971982\n",
            "Best Parameters: {'C': 0.1, 'class_weight': None, 'penalty': 'l1', 'solver': 'liblinear'}\n",
            "{'C': 0.1, 'class_weight': None, 'penalty': 'l1', 'solver': 'liblinear'}\n"
          ]
        }
      ],
      "source": [
        "from sklearn.model_selection import GridSearchCV, cross_val_score\n",
        "param_grid = {'class_weight' : ['balanced', None], \n",
        "                'penalty' : ['l2','l1'],  \n",
        "                'C' : [0.001, 0.01, 0.1, 1, 10, 100, 1000],\n",
        "                'solver': ['newton-cg', 'lbfgs', 'liblinear']\n",
        "                }\n",
        "grid = GridSearchCV(estimator = logi, param_grid = param_grid , scoring = 'accuracy', verbose = 1, n_jobs = -1, cv=20)\n",
        "grid.fit(X_train_new,y_train)\n",
        "print(\"Best Score:\" + str(grid.best_score_))\n",
        "print(\"Best Parameters: \" + str(grid.best_params_))\n",
        "best_parameters = grid.best_params_\n",
        "print(best_parameters)"
      ]
    },
    {
      "cell_type": "code",
      "execution_count": 17,
      "metadata": {
        "id": "6QQ_elkKWIBR"
      },
      "outputs": [
        {
          "name": "stdout",
          "output_type": "stream",
          "text": [
            "Logistic Regression: Hyper Parameter Tuning Accuracy:92.718\n",
            "              precision    recall  f1-score   support\n",
            "\n",
            "           0       0.93      0.90      0.92       994\n",
            "           1       0.92      0.95      0.93      1217\n",
            "\n",
            "    accuracy                           0.93      2211\n",
            "   macro avg       0.93      0.92      0.93      2211\n",
            "weighted avg       0.93      0.93      0.93      2211\n",
            "\n"
          ]
        }
      ],
      "source": [
        "logi = LogisticRegression(**best_parameters, random_state=0)\n",
        "\n",
        "logi.fit(X_train_new,y_train)\n",
        "\n",
        "y_train_logi = logi.predict(X_train_new)\n",
        "y_test_logi =logi.predict(X_test_new)\n",
        "\n",
        "\n",
        "#computing the accuracy of the model performance\n",
        "acc_train_logi= accuracy_score(y_train,y_train_logi)\n",
        "acc_test_logi = accuracy_score(y_test,y_test_logi)\n",
        "\n",
        "# print(\"Logistic Regression: Accuracy on training Data: {:.3f}\".format(acc_train_logi))\n",
        "print(\"Logistic Regression: Hyper Parameter Tuning Accuracy:{:.3f}\".format(acc_test_logi*100.0))\n",
        "\n",
        "print(classification_report(y_test, y_test_logi))"
      ]
    },
    {
      "cell_type": "code",
      "execution_count": 18,
      "metadata": {
        "id": "LWFHNGwZrv8f"
      },
      "outputs": [],
      "source": [
        "from sklearn.metrics import roc_curve\n",
        "logi_y_pred = logi.predict_proba(X_test_new)[:,1]\n",
        "logi_fpr, logi_tpr, logi_thresholds = roc_curve(y_test, logi_y_pred)"
      ]
    },
    {
      "cell_type": "markdown",
      "metadata": {
        "id": "miiicY0AWIBR"
      },
      "source": [
        "# Decision Tree"
      ]
    },
    {
      "cell_type": "code",
      "execution_count": 19,
      "metadata": {
        "id": "hFYLjWOmWIBS"
      },
      "outputs": [
        {
          "name": "stdout",
          "output_type": "stream",
          "text": [
            "Decision Tree: Accuracy on training Data: 99.084\n",
            "Decision Tree: Accuracy on test Data: 96.246\n",
            "              precision    recall  f1-score   support\n",
            "\n",
            "           0       0.97      0.95      0.96       994\n",
            "           1       0.96      0.97      0.97      1217\n",
            "\n",
            "    accuracy                           0.96      2211\n",
            "   macro avg       0.96      0.96      0.96      2211\n",
            "weighted avg       0.96      0.96      0.96      2211\n",
            "\n"
          ]
        }
      ],
      "source": [
        "from sklearn.tree import DecisionTreeClassifier\n",
        "from sklearn.metrics import accuracy_score\n",
        "from sklearn.metrics import classification_report\n",
        "import warnings\n",
        "warnings.filterwarnings('ignore')\n",
        "\n",
        "dt=DecisionTreeClassifier(random_state=0)\n",
        "dt.fit(X_train, y_train)\n",
        "\n",
        "y_train_dt = dt.predict(X_train)\n",
        "y_test_dt =dt.predict(X_test)\n",
        "\n",
        "\n",
        "#computing the accuracy of the model performance\n",
        "acc_train_dt= accuracy_score(y_train,y_train_dt)\n",
        "acc_test_dt = accuracy_score(y_test,y_test_dt)\n",
        "\n",
        "print(\"Decision Tree: Accuracy on training Data: {:.3f}\".format(acc_train_dt*100.0))\n",
        "print(\"Decision Tree: Accuracy on test Data: {:.3f}\".format(acc_test_dt*100.0))\n",
        "\n",
        "print(classification_report(y_test, y_test_dt))"
      ]
    },
    {
      "cell_type": "code",
      "execution_count": 20,
      "metadata": {
        "id": "iTy4aHpaWIBS"
      },
      "outputs": [
        {
          "name": "stdout",
          "output_type": "stream",
          "text": [
            "Decision Tree K-Fold Accuracy: 96.167% (0.494%)\n"
          ]
        }
      ],
      "source": [
        "from sklearn.model_selection import KFold\n",
        "from sklearn.model_selection import cross_val_score\n",
        "kfold = KFold(n_splits=10, random_state=0, shuffle=True)\n",
        "results = cross_val_score(dt, X_train, y_train, cv=kfold)\n",
        "print(\"Decision Tree K-Fold Accuracy: %.3f%% (%.3f%%)\" % (results.mean()*100.0, results.std()*100.0))"
      ]
    },
    {
      "cell_type": "code",
      "execution_count": 21,
      "metadata": {
        "id": "Yilb54AoWIBS"
      },
      "outputs": [
        {
          "name": "stdout",
          "output_type": "stream",
          "text": [
            "0 : Selected True, Rank: 1.000\n",
            "1 : Selected True, Rank: 1.000\n",
            "2 : Selected False, Rank: 3.000\n",
            "3 : Selected True, Rank: 1.000\n",
            "4 : Selected False, Rank: 6.000\n",
            "5 : Selected True, Rank: 1.000\n",
            "6 : Selected True, Rank: 1.000\n",
            "7 : Selected True, Rank: 1.000\n",
            "8 : Selected True, Rank: 1.000\n",
            "9 : Selected True, Rank: 1.000\n",
            "10 : Selected False, Rank: 2.000\n",
            "11 : Selected True, Rank: 1.000\n",
            "12 : Selected True, Rank: 1.000\n",
            "13 : Selected True, Rank: 1.000\n",
            "14 : Selected True, Rank: 1.000\n",
            "15 : Selected True, Rank: 1.000\n",
            "16 : Selected True, Rank: 1.000\n",
            "17 : Selected True, Rank: 1.000\n",
            "18 : Selected True, Rank: 1.000\n",
            "19 : Selected True, Rank: 1.000\n",
            "20 : Selected False, Rank: 5.000\n",
            "21 : Selected True, Rank: 1.000\n",
            "22 : Selected False, Rank: 4.000\n",
            "23 : Selected True, Rank: 1.000\n",
            "24 : Selected True, Rank: 1.000\n",
            "25 : Selected True, Rank: 1.000\n",
            "26 : Selected True, Rank: 1.000\n",
            "27 : Selected True, Rank: 1.000\n",
            "28 : Selected True, Rank: 1.000\n",
            "29 : Selected True, Rank: 1.000\n"
          ]
        }
      ],
      "source": [
        "from sklearn.feature_selection import RFECV\n",
        "\n",
        "## create ranking among all features by selecting only one\n",
        "rfecv = RFECV(estimator=dt, step=1, cv=20, scoring='accuracy')\n",
        "rfecv.fit(X_train, y_train)\n",
        "\n",
        "for i in range(X.shape[1]):\n",
        "    print(column_name[i],': Selected %s, Rank: %.3f' % (rfecv.support_[i], rfecv.ranking_[i]))\n"
      ]
    },
    {
      "cell_type": "code",
      "execution_count": 22,
      "metadata": {
        "id": "v7FBUqDgWIBT"
      },
      "outputs": [
        {
          "data": {
            "text/plain": [
              "Int64Index([ 0,  1,  3,  5,  6,  7,  8,  9, 11, 12, 13, 14, 15, 16, 17, 18, 19,\n",
              "            21, 23, 24, 25, 26, 27, 28, 29],\n",
              "           dtype='int64')"
            ]
          },
          "execution_count": 22,
          "metadata": {},
          "output_type": "execute_result"
        }
      ],
      "source": [
        "X_train.columns[rfecv.support_]"
      ]
    },
    {
      "cell_type": "code",
      "execution_count": 23,
      "metadata": {
        "id": "7G7uaoeXWIBT"
      },
      "outputs": [
        {
          "name": "stdout",
          "output_type": "stream",
          "text": [
            "Decision Tree Optimal number of features: 25\n"
          ]
        }
      ],
      "source": [
        "print('Decision Tree Optimal number of features: {}'.format(rfecv.n_features_))"
      ]
    },
    {
      "cell_type": "code",
      "execution_count": 24,
      "metadata": {
        "id": "Pi7zgMFtWIBT"
      },
      "outputs": [
        {
          "name": "stdout",
          "output_type": "stream",
          "text": [
            "[0, 1, 3, 5, 6, 7, 8, 9, 11, 12, 13, 14, 15, 16, 17, 18, 19, 21, 23, 24, 25, 26, 27, 28, 29]\n"
          ]
        }
      ],
      "source": [
        "feature_importance = list(zip(column_name, rfecv.support_))\n",
        "new_features = []\n",
        "for key,value in enumerate(feature_importance):\n",
        "    if(value[1]) == True:\n",
        "        new_features.append(value[0])\n",
        "        \n",
        "print(new_features)"
      ]
    },
    {
      "cell_type": "code",
      "execution_count": 25,
      "metadata": {
        "id": "FciFfCPcWIBT"
      },
      "outputs": [],
      "source": [
        "X_new = data[new_features]\n",
        "X_new.head()\n",
        "\n",
        "X_train_new, X_test_new, y_train, y_test = train_test_split(X_new, y, \n",
        "                                                    test_size = 0.2, random_state = 12)"
      ]
    },
    {
      "cell_type": "code",
      "execution_count": 26,
      "metadata": {},
      "outputs": [
        {
          "name": "stdout",
          "output_type": "stream",
          "text": [
            "Decsision Tree Feature Selection Accuracy: 95.975\n",
            "              precision    recall  f1-score   support\n",
            "\n",
            "           0       0.96      0.95      0.95       994\n",
            "           1       0.96      0.97      0.96      1217\n",
            "\n",
            "    accuracy                           0.96      2211\n",
            "   macro avg       0.96      0.96      0.96      2211\n",
            "weighted avg       0.96      0.96      0.96      2211\n",
            "\n"
          ]
        }
      ],
      "source": [
        "dt = DecisionTreeClassifier(random_state=0)\n",
        "\n",
        "dt.fit(X_train_new,y_train)\n",
        "\n",
        "y_train_dt = dt.predict(X_train_new)\n",
        "y_test_dt =dt.predict(X_test_new)\n",
        "\n",
        "\n",
        "#computing the accuracy of the model performance\n",
        "acc_train_dt= accuracy_score(y_train,y_train_dt)\n",
        "acc_test_dt = accuracy_score(y_test,y_test_dt)\n",
        "\n",
        "# print(\"Decision Tree: Accuracy on training Data: {:.3f}\".format(acc_train_dt))\n",
        "print(\"Decsision Tree Feature Selection Accuracy: {:.3f}\".format(acc_test_dt*100.0))\n",
        "\n",
        "print(classification_report(y_test, y_test_dt))"
      ]
    },
    {
      "cell_type": "code",
      "execution_count": 27,
      "metadata": {
        "id": "raFV_kjeWIBT"
      },
      "outputs": [
        {
          "name": "stdout",
          "output_type": "stream",
          "text": [
            "Fitting 20 folds for each of 240 candidates, totalling 4800 fits\n",
            "Best Score:0.9626885795123744\n",
            "Best Parameters: {'criterion': 'entropy', 'max_depth': 20, 'max_features': 'auto', 'min_samples_split': 1, 'splitter': 'best'}\n",
            "{'criterion': 'entropy', 'max_depth': 20, 'max_features': 'auto', 'min_samples_split': 1, 'splitter': 'best'}\n"
          ]
        }
      ],
      "source": [
        "from sklearn.model_selection import GridSearchCV, cross_val_score\n",
        "param_grid = {\n",
        "    'splitter':['best','random'],\n",
        "    'criterion': ['gini', 'entropy'],\n",
        "    'max_depth': [5,10,15,20,25],\n",
        "    'min_samples_split': range(1,5),\n",
        "    'max_features': ['auto', 'sqrt', 'log2'],\n",
        "    }\n",
        "grid = GridSearchCV(estimator = dt, param_grid = param_grid , scoring = 'accuracy', verbose = 1, n_jobs = -1, cv=20)\n",
        "grid.fit(X_train_new,y_train)\n",
        "print(\"Best Score:\" + str(grid.best_score_))\n",
        "print(\"Best Parameters: \" + str(grid.best_params_))\n",
        "best_parameters = grid.best_params_\n",
        "print(best_parameters)"
      ]
    },
    {
      "cell_type": "code",
      "execution_count": 28,
      "metadata": {
        "id": "D3u_OeSdWIBU"
      },
      "outputs": [
        {
          "name": "stdout",
          "output_type": "stream",
          "text": [
            "Decision Tree: Hyper Parameter Tuning Accuracy:95.296\n",
            "              precision    recall  f1-score   support\n",
            "\n",
            "           0       0.95      0.94      0.95       994\n",
            "           1       0.95      0.96      0.96      1217\n",
            "\n",
            "    accuracy                           0.95      2211\n",
            "   macro avg       0.95      0.95      0.95      2211\n",
            "weighted avg       0.95      0.95      0.95      2211\n",
            "\n"
          ]
        }
      ],
      "source": [
        "dt = DecisionTreeClassifier(**best_parameters, random_state=0)\n",
        "\n",
        "dt.fit(X_train_new,y_train)\n",
        "\n",
        "y_train_dt = dt.predict(X_train_new)\n",
        "y_test_dt =dt.predict(X_test_new)\n",
        "\n",
        "\n",
        "#computing the accuracy of the model performance\n",
        "acc_train_dt= accuracy_score(y_train,y_train_dt)\n",
        "acc_test_dt = accuracy_score(y_test,y_test_dt)\n",
        "\n",
        "# print(\"Decision Tree: Accuracy on training Data: {:.3f}\".format(acc_train_dt))\n",
        "print(\"Decision Tree: Hyper Parameter Tuning Accuracy:{:.3f}\".format(acc_test_dt*100.0))\n",
        "\n",
        "\n",
        "print(classification_report(y_test, y_test_dt))"
      ]
    },
    {
      "cell_type": "code",
      "execution_count": 29,
      "metadata": {
        "id": "ho8fBnXzrkjY"
      },
      "outputs": [],
      "source": [
        "dt_y_pred = dt.predict_proba(X_test_new)[:,1]\n",
        "dt_fpr, dt_tpr, dt_thresholds = roc_curve(y_test, dt_y_pred)"
      ]
    },
    {
      "cell_type": "markdown",
      "metadata": {
        "id": "krBmD680WIBX"
      },
      "source": [
        "# XGBoost"
      ]
    },
    {
      "cell_type": "code",
      "execution_count": 30,
      "metadata": {
        "id": "rR_BZQ6PWIBX"
      },
      "outputs": [
        {
          "name": "stdout",
          "output_type": "stream",
          "text": [
            "XGBoost Accuracy on training Data: 98.530\n",
            "XGBoost Accuracy on test Data: 97.151\n",
            "              precision    recall  f1-score   support\n",
            "\n",
            "           0       0.98      0.96      0.97       994\n",
            "           1       0.97      0.98      0.97      1217\n",
            "\n",
            "    accuracy                           0.97      2211\n",
            "   macro avg       0.97      0.97      0.97      2211\n",
            "weighted avg       0.97      0.97      0.97      2211\n",
            "\n"
          ]
        }
      ],
      "source": [
        "from xgboost import XGBClassifier\n",
        "from sklearn.metrics import accuracy_score\n",
        "from sklearn.metrics import classification_report\n",
        "import warnings\n",
        "warnings.filterwarnings('ignore')\n",
        "\n",
        "xg=XGBClassifier(random_state=0)\n",
        "xg.fit(X_train, y_train)\n",
        "\n",
        "y_train_xg = xg.predict(X_train)\n",
        "y_test_xg =xg.predict(X_test)\n",
        "\n",
        "\n",
        "#computing the accuracy of the model performance\n",
        "acc_train_xg= accuracy_score(y_train,y_train_xg)\n",
        "acc_test_xg = accuracy_score(y_test,y_test_xg)\n",
        "\n",
        "print(\"XGBoost Accuracy on training Data: {:.3f}\".format(acc_train_xg*100))\n",
        "print(\"XGBoost Accuracy on test Data: {:.3f}\".format(acc_test_xg*100))\n",
        "\n",
        "print(classification_report(y_test, y_test_xg))"
      ]
    },
    {
      "cell_type": "code",
      "execution_count": 31,
      "metadata": {
        "id": "9ndHahY4WIBX"
      },
      "outputs": [
        {
          "name": "stdout",
          "output_type": "stream",
          "text": [
            "K-Fold Accuracy: 97.004% (0.529%)\n"
          ]
        }
      ],
      "source": [
        "from sklearn.model_selection import KFold\n",
        "\n",
        "from sklearn.model_selection import cross_val_score\n",
        "kfold = KFold(n_splits=10, random_state=0, shuffle=True)\n",
        "results = cross_val_score(xg, X_train, y_train, cv=kfold)\n",
        "print(\"K-Fold Accuracy: %.3f%% (%.3f%%)\" % (results.mean()*100.0, results.std()*100.0))"
      ]
    },
    {
      "cell_type": "code",
      "execution_count": 32,
      "metadata": {
        "id": "GmsY7Z6pWIBY"
      },
      "outputs": [
        {
          "name": "stdout",
          "output_type": "stream",
          "text": [
            "0 : Selected True, Rank: 1.000\n",
            "1 : Selected True, Rank: 1.000\n",
            "2 : Selected True, Rank: 1.000\n",
            "3 : Selected False, Rank: 2.000\n",
            "4 : Selected True, Rank: 1.000\n",
            "5 : Selected True, Rank: 1.000\n",
            "6 : Selected True, Rank: 1.000\n",
            "7 : Selected True, Rank: 1.000\n",
            "8 : Selected True, Rank: 1.000\n",
            "9 : Selected True, Rank: 1.000\n",
            "10 : Selected True, Rank: 1.000\n",
            "11 : Selected True, Rank: 1.000\n",
            "12 : Selected True, Rank: 1.000\n",
            "13 : Selected True, Rank: 1.000\n",
            "14 : Selected True, Rank: 1.000\n",
            "15 : Selected True, Rank: 1.000\n",
            "16 : Selected True, Rank: 1.000\n",
            "17 : Selected True, Rank: 1.000\n",
            "18 : Selected True, Rank: 1.000\n",
            "19 : Selected True, Rank: 1.000\n",
            "20 : Selected True, Rank: 1.000\n",
            "21 : Selected True, Rank: 1.000\n",
            "22 : Selected True, Rank: 1.000\n",
            "23 : Selected True, Rank: 1.000\n",
            "24 : Selected True, Rank: 1.000\n",
            "25 : Selected True, Rank: 1.000\n",
            "26 : Selected True, Rank: 1.000\n",
            "27 : Selected True, Rank: 1.000\n",
            "28 : Selected True, Rank: 1.000\n",
            "29 : Selected True, Rank: 1.000\n"
          ]
        }
      ],
      "source": [
        "from sklearn.feature_selection import RFECV\n",
        "\n",
        "\n",
        "## create ranking among all features by selecting only one\n",
        "rfecv = RFECV(XGBClassifier(random_state=0), step=1, cv=20, scoring='accuracy')\n",
        "rfecv.fit(X_train, y_train)\n",
        "\n",
        "for i in range(X.shape[1]):\n",
        "    print(column_name[i],': Selected %s, Rank: %.3f' % (rfecv.support_[i], rfecv.ranking_[i]))"
      ]
    },
    {
      "cell_type": "code",
      "execution_count": 33,
      "metadata": {
        "id": "55kZAJx6WIBY"
      },
      "outputs": [
        {
          "data": {
            "text/plain": [
              "Int64Index([ 0,  1,  2,  4,  5,  6,  7,  8,  9, 10, 11, 12, 13, 14, 15, 16, 17,\n",
              "            18, 19, 20, 21, 22, 23, 24, 25, 26, 27, 28, 29],\n",
              "           dtype='int64')"
            ]
          },
          "execution_count": 33,
          "metadata": {},
          "output_type": "execute_result"
        }
      ],
      "source": [
        "X_train.columns[rfecv.support_]"
      ]
    },
    {
      "cell_type": "code",
      "execution_count": 34,
      "metadata": {
        "id": "nIQhJTXEWIBY"
      },
      "outputs": [
        {
          "name": "stdout",
          "output_type": "stream",
          "text": [
            "Optimal number of features: 29\n"
          ]
        }
      ],
      "source": [
        "print('Optimal number of features: {}'.format(rfecv.n_features_))"
      ]
    },
    {
      "cell_type": "code",
      "execution_count": 35,
      "metadata": {
        "id": "TRRG5xcOWIBY"
      },
      "outputs": [
        {
          "name": "stdout",
          "output_type": "stream",
          "text": [
            "[0, 1, 2, 4, 5, 6, 7, 8, 9, 10, 11, 12, 13, 14, 15, 16, 17, 18, 19, 20, 21, 22, 23, 24, 25, 26, 27, 28, 29]\n"
          ]
        }
      ],
      "source": [
        "feature_importance = list(zip(column_name, rfecv.support_))\n",
        "new_features = []\n",
        "for key,value in enumerate(feature_importance):\n",
        "    if(value[1]) == True:\n",
        "        new_features.append(value[0])\n",
        "        \n",
        "print(new_features)"
      ]
    },
    {
      "cell_type": "code",
      "execution_count": 36,
      "metadata": {
        "id": "NSrl5tFcWIBY"
      },
      "outputs": [],
      "source": [
        "X_new = data[new_features]\n",
        "X_new.head()\n",
        "\n",
        "X_train_new, X_test_new, y_train, y_test = train_test_split(X_new, y, \n",
        "                                                    test_size = 0.2, random_state = 12)"
      ]
    },
    {
      "cell_type": "code",
      "execution_count": 37,
      "metadata": {
        "id": "Yh3PnS8jWIBZ"
      },
      "outputs": [
        {
          "name": "stdout",
          "output_type": "stream",
          "text": [
            "XGBoost Accuracy on  Feature Selection: 97.467\n",
            "              precision    recall  f1-score   support\n",
            "\n",
            "           0       0.98      0.96      0.97       994\n",
            "           1       0.97      0.99      0.98      1217\n",
            "\n",
            "    accuracy                           0.97      2211\n",
            "   macro avg       0.98      0.97      0.97      2211\n",
            "weighted avg       0.97      0.97      0.97      2211\n",
            "\n"
          ]
        }
      ],
      "source": [
        "xg = XGBClassifier(random_state=0)\n",
        "\n",
        "xg.fit(X_train_new,y_train)\n",
        "\n",
        "y_train_xg = xg.predict(X_train_new)\n",
        "y_test_xg =xg.predict(X_test_new)\n",
        "\n",
        "\n",
        "#computing the accuracy of the model performance\n",
        "acc_train_xg= accuracy_score(y_train,y_train_xg)\n",
        "acc_test_xg = accuracy_score(y_test,y_test_xg)\n",
        "\n",
        "# print(\"XGBoost Accuracy on training Data: {:.3f}\".format(acc_train_xg))\n",
        "print(\"XGBoost Accuracy on  Feature Selection: {:.3f}\".format(acc_test_xg*100))\n",
        "\n",
        "print(classification_report(y_test, y_test_xg))"
      ]
    },
    {
      "cell_type": "code",
      "execution_count": 38,
      "metadata": {
        "id": "hpKAuqdmWIBZ"
      },
      "outputs": [
        {
          "name": "stdout",
          "output_type": "stream",
          "text": [
            "Fitting 20 folds for each of 27 candidates, totalling 540 fits\n",
            "Best Score:0.9726384789025871\n",
            "Best Parameters: {'learning_rate': 0.2, 'max_depth': 7, 'n_estimators': 200}\n",
            "{'learning_rate': 0.2, 'max_depth': 7, 'n_estimators': 200}\n"
          ]
        }
      ],
      "source": [
        "from sklearn.model_selection import GridSearchCV, cross_val_score\n",
        "param_grid = {\n",
        "    'max_depth': [5,7,10],\n",
        "              'n_estimators': [50, 100, 200],\n",
        "              'learning_rate': [0.1, 0.2, 0.3]}\n",
        "\n",
        "grid = GridSearchCV(estimator = xg, param_grid = param_grid , scoring = 'accuracy', verbose = 1, n_jobs = -1, cv=20)\n",
        "grid.fit(X_train_new,y_train)\n",
        "print(\"Best Score:\" + str(grid.best_score_))\n",
        "print(\"Best Parameters: \" + str(grid.best_params_))\n",
        "best_parameters = grid.best_params_\n",
        "print(best_parameters)"
      ]
    },
    {
      "cell_type": "code",
      "execution_count": 39,
      "metadata": {
        "id": "-kGwpsv0WIBZ"
      },
      "outputs": [
        {
          "name": "stdout",
          "output_type": "stream",
          "text": [
            "XGBoost Accuracy on  Hyper Parameter: 97.603\n",
            "              precision    recall  f1-score   support\n",
            "\n",
            "           0       0.98      0.96      0.97       994\n",
            "           1       0.97      0.99      0.98      1217\n",
            "\n",
            "    accuracy                           0.98      2211\n",
            "   macro avg       0.98      0.97      0.98      2211\n",
            "weighted avg       0.98      0.98      0.98      2211\n",
            "\n"
          ]
        }
      ],
      "source": [
        "xg = XGBClassifier(**best_parameters, random_state=0)\n",
        "\n",
        "xg.fit(X_train_new,y_train)\n",
        "\n",
        "y_train_xg = xg.predict(X_train_new)\n",
        "y_test_xg =xg.predict(X_test_new)\n",
        "\n",
        "\n",
        "#computing the accuracy of the model performance\n",
        "acc_train_xg= accuracy_score(y_train,y_train_xg)\n",
        "acc_test_xg = accuracy_score(y_test,y_test_xg)\n",
        "\n",
        "# print(\"XGBoost Accuracy on training Data: {:.3f}\".format(acc_train_xg))\n",
        "print(\"XGBoost Accuracy on  Hyper Parameter: {:.3f}\".format(acc_test_xg*100))\n",
        "\n",
        "print(classification_report(y_test, y_test_xg))"
      ]
    },
    {
      "cell_type": "code",
      "execution_count": 40,
      "metadata": {
        "id": "0Hk3RZ-Zrqxf"
      },
      "outputs": [],
      "source": [
        "xg_y_pred = xg.predict_proba(X_test_new)[:,1]\n",
        "xgb_fpr, xgb_tpr, xgb_thresholds = roc_curve(y_test, xg_y_pred)"
      ]
    },
    {
      "cell_type": "markdown",
      "metadata": {
        "id": "yxHe_tSyWIBa"
      },
      "source": [
        "# Random Forest"
      ]
    },
    {
      "cell_type": "code",
      "execution_count": 41,
      "metadata": {
        "id": "azGUHvnzWIBa"
      },
      "outputs": [
        {
          "name": "stdout",
          "output_type": "stream",
          "text": [
            "Random Forest: Accuracy on training Data: 99.084\n",
            "Random Forest: Accuracy on test Data: 97.105\n",
            "              precision    recall  f1-score   support\n",
            "\n",
            "           0       0.98      0.96      0.97       994\n",
            "           1       0.97      0.98      0.97      1217\n",
            "\n",
            "    accuracy                           0.97      2211\n",
            "   macro avg       0.97      0.97      0.97      2211\n",
            "weighted avg       0.97      0.97      0.97      2211\n",
            "\n"
          ]
        }
      ],
      "source": [
        "from sklearn.ensemble import RandomForestClassifier\n",
        "\n",
        "from sklearn.metrics import accuracy_score\n",
        "from sklearn.metrics import classification_report\n",
        "import warnings\n",
        "warnings.filterwarnings('ignore')\n",
        "\n",
        "rf=RandomForestClassifier(random_state=0)\n",
        "rf.fit(X_train, y_train)\n",
        "\n",
        "y_train_rf = rf.predict(X_train)\n",
        "y_test_rf =rf.predict(X_test)\n",
        "\n",
        "\n",
        "#computing the accuracy of the model performance\n",
        "acc_train_rf= accuracy_score(y_train,y_train_rf)\n",
        "acc_test_rf = accuracy_score(y_test,y_test_rf)\n",
        "\n",
        "print(\"Random Forest: Accuracy on training Data: {:.3f}\".format(acc_train_rf*100))\n",
        "print(\"Random Forest: Accuracy on test Data: {:.3f}\".format(acc_test_rf*100))\n",
        "\n",
        "print(classification_report(y_test, y_test_rf))"
      ]
    },
    {
      "cell_type": "code",
      "execution_count": 42,
      "metadata": {
        "id": "Qm3HZufYWIBa"
      },
      "outputs": [
        {
          "name": "stdout",
          "output_type": "stream",
          "text": [
            "K-Fold Accuracy: 97.184% (0.473%)\n"
          ]
        }
      ],
      "source": [
        "from sklearn.model_selection import KFold\n",
        "from sklearn.model_selection import cross_val_score\n",
        "kfold = KFold(n_splits=10, random_state=0, shuffle=True)\n",
        "results = cross_val_score(rf, X_train, y_train, cv=kfold)\n",
        "print(\"K-Fold Accuracy: %.3f%% (%.3f%%)\" % (results.mean()*100.0, results.std()*100.0))"
      ]
    },
    {
      "cell_type": "code",
      "execution_count": 43,
      "metadata": {
        "id": "sQBRKw4PWIBb"
      },
      "outputs": [
        {
          "name": "stdout",
          "output_type": "stream",
          "text": [
            "0 : Selected True, Rank: 1.000\n",
            "1 : Selected True, Rank: 1.000\n",
            "2 : Selected True, Rank: 1.000\n",
            "3 : Selected True, Rank: 1.000\n",
            "4 : Selected True, Rank: 1.000\n",
            "5 : Selected True, Rank: 1.000\n",
            "6 : Selected True, Rank: 1.000\n",
            "7 : Selected True, Rank: 1.000\n",
            "8 : Selected True, Rank: 1.000\n",
            "9 : Selected True, Rank: 1.000\n",
            "10 : Selected True, Rank: 1.000\n",
            "11 : Selected True, Rank: 1.000\n",
            "12 : Selected True, Rank: 1.000\n",
            "13 : Selected True, Rank: 1.000\n",
            "14 : Selected True, Rank: 1.000\n",
            "15 : Selected True, Rank: 1.000\n",
            "16 : Selected True, Rank: 1.000\n",
            "17 : Selected True, Rank: 1.000\n",
            "18 : Selected True, Rank: 1.000\n",
            "19 : Selected True, Rank: 1.000\n",
            "20 : Selected True, Rank: 1.000\n",
            "21 : Selected True, Rank: 1.000\n",
            "22 : Selected True, Rank: 1.000\n",
            "23 : Selected True, Rank: 1.000\n",
            "24 : Selected True, Rank: 1.000\n",
            "25 : Selected True, Rank: 1.000\n",
            "26 : Selected True, Rank: 1.000\n",
            "27 : Selected True, Rank: 1.000\n",
            "28 : Selected True, Rank: 1.000\n",
            "29 : Selected True, Rank: 1.000\n"
          ]
        }
      ],
      "source": [
        "from sklearn.feature_selection import RFECV\n",
        "\n",
        "## create ranking among all features by selecting only one\n",
        "rfecv = RFECV(RandomForestClassifier(random_state=0), step=1, cv=20, scoring='accuracy')\n",
        "rfecv.fit(X_train, y_train)\n",
        "\n",
        "for i in range(X.shape[1]):\n",
        "    print(column_name[i],': Selected %s, Rank: %.3f' % (rfecv.support_[i], rfecv.ranking_[i]))\n"
      ]
    },
    {
      "cell_type": "code",
      "execution_count": 44,
      "metadata": {
        "id": "tSQSDh8vWIBb"
      },
      "outputs": [
        {
          "data": {
            "text/plain": [
              "Int64Index([ 0,  1,  2,  3,  4,  5,  6,  7,  8,  9, 10, 11, 12, 13, 14, 15, 16,\n",
              "            17, 18, 19, 20, 21, 22, 23, 24, 25, 26, 27, 28, 29],\n",
              "           dtype='int64')"
            ]
          },
          "execution_count": 44,
          "metadata": {},
          "output_type": "execute_result"
        }
      ],
      "source": [
        "X_train.columns[rfecv.support_]"
      ]
    },
    {
      "cell_type": "code",
      "execution_count": 45,
      "metadata": {
        "id": "psRlBIuvWIBb"
      },
      "outputs": [
        {
          "name": "stdout",
          "output_type": "stream",
          "text": [
            "Optimal number of features: 30\n"
          ]
        }
      ],
      "source": [
        "print('Optimal number of features: {}'.format(rfecv.n_features_))"
      ]
    },
    {
      "cell_type": "code",
      "execution_count": 46,
      "metadata": {
        "id": "WIx0kBayWIBc"
      },
      "outputs": [
        {
          "name": "stdout",
          "output_type": "stream",
          "text": [
            "[0, 1, 2, 3, 4, 5, 6, 7, 8, 9, 10, 11, 12, 13, 14, 15, 16, 17, 18, 19, 20, 21, 22, 23, 24, 25, 26, 27, 28, 29]\n"
          ]
        }
      ],
      "source": [
        "feature_importance = list(zip(column_name, rfecv.support_))\n",
        "new_features = []\n",
        "for key,value in enumerate(feature_importance):\n",
        "    if(value[1]) == True:\n",
        "        new_features.append(value[0])\n",
        "        \n",
        "print(new_features)"
      ]
    },
    {
      "cell_type": "code",
      "execution_count": 47,
      "metadata": {
        "id": "XQ52tXo7WIBc"
      },
      "outputs": [],
      "source": [
        "X_new = data[new_features]\n",
        "X_new.head()\n",
        "\n",
        "X_train_new, X_test_new, y_train, y_test = train_test_split(X_new, y, \n",
        "                                                    test_size = 0.2, random_state = 12)"
      ]
    },
    {
      "cell_type": "code",
      "execution_count": 48,
      "metadata": {
        "id": "M2C5yhigWIBc"
      },
      "outputs": [
        {
          "name": "stdout",
          "output_type": "stream",
          "text": [
            "Random Forest: Feature Selection Accuracy: 97.105\n",
            "              precision    recall  f1-score   support\n",
            "\n",
            "           0       0.98      0.96      0.97       994\n",
            "           1       0.97      0.98      0.97      1217\n",
            "\n",
            "    accuracy                           0.97      2211\n",
            "   macro avg       0.97      0.97      0.97      2211\n",
            "weighted avg       0.97      0.97      0.97      2211\n",
            "\n"
          ]
        }
      ],
      "source": [
        "rf = RandomForestClassifier(random_state=0)\n",
        "\n",
        "rf.fit(X_train_new,y_train)\n",
        "\n",
        "y_train_rf = rf.predict(X_train_new)\n",
        "y_test_rf =rf.predict(X_test_new)\n",
        "\n",
        "\n",
        "#computing the accuracy of the model performance\n",
        "acc_train_rf= accuracy_score(y_train,y_train_rf)\n",
        "acc_test_rf = accuracy_score(y_test,y_test_rf)\n",
        "\n",
        "# print(\"Random Forest: Accuracy on training Data: {:.3f}\".format(acc_train_rf*100))\n",
        "print(\"Random Forest: Feature Selection Accuracy: {:.3f}\".format(acc_test_rf*100))\n",
        "\n",
        "print(classification_report(y_test, y_test_rf))"
      ]
    },
    {
      "cell_type": "code",
      "execution_count": 49,
      "metadata": {
        "id": "f23K0N24WIBc"
      },
      "outputs": [
        {
          "name": "stdout",
          "output_type": "stream",
          "text": [
            "Fitting 20 folds for each of 72 candidates, totalling 1440 fits\n",
            "Best Score:0.9724137666874354\n",
            "Best Parameters: {'bootstrap': True, 'criterion': 'entropy', 'max_depth': 20, 'max_features': 'log2', 'n_estimators': 100}\n"
          ]
        }
      ],
      "source": [
        "from sklearn.model_selection import GridSearchCV, cross_val_score\n",
        "param_grid = {\n",
        "    'bootstrap': [True],\n",
        "    'max_depth': [5,10,15,20],\n",
        "    'max_features': ['auto', 'sqrt', 'log2'],\n",
        "    'n_estimators': [10, 100, 1000],\n",
        "    'criterion' :['gini', 'entropy']\n",
        "    }\n",
        "grid = GridSearchCV(estimator = rf, param_grid = param_grid , scoring = 'accuracy', verbose = 1, n_jobs = -1, cv=20)\n",
        "grid.fit(X_train_new,y_train)\n",
        "print(\"Best Score:\" + str(grid.best_score_))\n",
        "print(\"Best Parameters: \" + str(grid.best_params_))\n",
        "best_parameters = grid.best_params_"
      ]
    },
    {
      "cell_type": "code",
      "execution_count": 50,
      "metadata": {
        "id": "B52Ja9ZwWIBc"
      },
      "outputs": [
        {
          "name": "stdout",
          "output_type": "stream",
          "text": [
            "{'bootstrap': True, 'criterion': 'entropy', 'max_depth': 20, 'max_features': 'log2', 'n_estimators': 100}\n"
          ]
        }
      ],
      "source": [
        "print(best_parameters)"
      ]
    },
    {
      "cell_type": "code",
      "execution_count": 51,
      "metadata": {
        "id": "RQQz2FcRWIBd"
      },
      "outputs": [
        {
          "name": "stdout",
          "output_type": "stream",
          "text": [
            "Random Forest: Hyper Parameter Tuning Accuracy: 97.151\n",
            "              precision    recall  f1-score   support\n",
            "\n",
            "           0       0.98      0.96      0.97       994\n",
            "           1       0.97      0.98      0.97      1217\n",
            "\n",
            "    accuracy                           0.97      2211\n",
            "   macro avg       0.97      0.97      0.97      2211\n",
            "weighted avg       0.97      0.97      0.97      2211\n",
            "\n"
          ]
        }
      ],
      "source": [
        "rf = RandomForestClassifier(**best_parameters, random_state=0)\n",
        "\n",
        "rf.fit(X_train_new,y_train)\n",
        "\n",
        "y_train_rf = rf.predict(X_train_new)\n",
        "y_test_rf =rf.predict(X_test_new)\n",
        "\n",
        "\n",
        "#computing the accuracy of the model performance\n",
        "acc_train_rf= accuracy_score(y_train,y_train_rf)\n",
        "acc_test_rf = accuracy_score(y_test,y_test_rf)\n",
        "\n",
        "# print(\"Random Forest: Accuracy on training Data: {:.3f}\".format(acc_train_rf))\n",
        "print(\"Random Forest: Hyper Parameter Tuning Accuracy: {:.3f}\".format(acc_test_rf*100))\n",
        "\n",
        "print(classification_report(y_test, y_test_rf))"
      ]
    },
    {
      "cell_type": "code",
      "execution_count": 52,
      "metadata": {
        "id": "NdE2UbY0rY2h"
      },
      "outputs": [],
      "source": [
        "rf_y_pred = rf.predict_proba(X_test_new)[:,1]\n",
        "rf_fpr, rf_tpr, rf_thresholds = roc_curve(y_test, rf_y_pred)"
      ]
    },
    {
      "cell_type": "markdown",
      "metadata": {
        "id": "NbDagEY6WIBU"
      },
      "source": [
        "# SVM"
      ]
    },
    {
      "cell_type": "code",
      "execution_count": 53,
      "metadata": {
        "id": "qj1k7gMMWIBV"
      },
      "outputs": [
        {
          "name": "stdout",
          "output_type": "stream",
          "text": [
            "SVM: Accuracy on training Data: 95.308\n",
            "SVM: Accuracy on test Data: 95.070\n",
            "              precision    recall  f1-score   support\n",
            "\n",
            "           0       0.96      0.93      0.94       994\n",
            "           1       0.94      0.97      0.96      1217\n",
            "\n",
            "    accuracy                           0.95      2211\n",
            "   macro avg       0.95      0.95      0.95      2211\n",
            "weighted avg       0.95      0.95      0.95      2211\n",
            "\n"
          ]
        }
      ],
      "source": [
        "from sklearn.svm import SVC\n",
        "from sklearn.metrics import accuracy_score\n",
        "from sklearn.metrics import classification_report\n",
        "import warnings\n",
        "warnings.filterwarnings('ignore')\n",
        "\n",
        "svm=SVC(probability=True)\n",
        "svm.fit(X_train, y_train)\n",
        "\n",
        "y_train_svm = svm.predict(X_train)\n",
        "y_test_svm =svm.predict(X_test)\n",
        "\n",
        "\n",
        "#computing the accuracy of the model performance\n",
        "acc_train_svm= accuracy_score(y_train,y_train_svm)\n",
        "acc_test_svm = accuracy_score(y_test,y_test_svm)\n",
        "\n",
        "print(\"SVM: Accuracy on training Data: {:.3f}\".format(acc_train_svm*100))\n",
        "print(\"SVM: Accuracy on test Data: {:.3f}\".format(acc_test_svm*100))\n",
        "\n",
        "print(classification_report(y_test, y_test_svm))"
      ]
    },
    {
      "cell_type": "code",
      "execution_count": 54,
      "metadata": {
        "id": "TLzuHz2qWIBV"
      },
      "outputs": [
        {
          "name": "stdout",
          "output_type": "stream",
          "text": [
            "K-Fold Accuracy: 94.550% (0.683%)\n"
          ]
        }
      ],
      "source": [
        "from sklearn.model_selection import KFold\n",
        "from sklearn.model_selection import cross_val_score\n",
        "kfold = KFold(n_splits=10, random_state=0, shuffle=True)\n",
        "results = cross_val_score(svm, X_train, y_train, cv=kfold)\n",
        "print(\"K-Fold Accuracy: %.3f%% (%.3f%%)\" % (results.mean()*100.0, results.std()*100.0))"
      ]
    },
    {
      "cell_type": "code",
      "execution_count": 55,
      "metadata": {
        "id": "viKXV-vMWIBV"
      },
      "outputs": [
        {
          "name": "stdout",
          "output_type": "stream",
          "text": [
            "0 : Selected True, Rank: 1.000\n",
            "1 : Selected True, Rank: 1.000\n",
            "2 : Selected True, Rank: 1.000\n",
            "3 : Selected True, Rank: 1.000\n",
            "4 : Selected True, Rank: 1.000\n",
            "5 : Selected True, Rank: 1.000\n",
            "6 : Selected True, Rank: 1.000\n",
            "7 : Selected True, Rank: 1.000\n",
            "8 : Selected True, Rank: 1.000\n",
            "9 : Selected True, Rank: 1.000\n",
            "10 : Selected True, Rank: 1.000\n",
            "11 : Selected True, Rank: 1.000\n",
            "12 : Selected True, Rank: 1.000\n",
            "13 : Selected True, Rank: 1.000\n",
            "14 : Selected True, Rank: 1.000\n",
            "15 : Selected True, Rank: 1.000\n",
            "16 : Selected True, Rank: 1.000\n",
            "17 : Selected True, Rank: 1.000\n",
            "18 : Selected True, Rank: 1.000\n",
            "19 : Selected False, Rank: 3.000\n",
            "20 : Selected True, Rank: 1.000\n",
            "21 : Selected False, Rank: 2.000\n",
            "22 : Selected True, Rank: 1.000\n",
            "23 : Selected True, Rank: 1.000\n",
            "24 : Selected True, Rank: 1.000\n",
            "25 : Selected True, Rank: 1.000\n",
            "26 : Selected True, Rank: 1.000\n",
            "27 : Selected True, Rank: 1.000\n",
            "28 : Selected True, Rank: 1.000\n",
            "29 : Selected True, Rank: 1.000\n"
          ]
        }
      ],
      "source": [
        "from sklearn.feature_selection import RFECV\n",
        "\n",
        "# initialize SVM model\n",
        "svm = SVC(kernel='linear', probability=True)\n",
        "\n",
        "# initialize RFECV\n",
        "rfecv = RFECV(estimator=svm, step=1, cv=20, scoring='accuracy')\n",
        "\n",
        "rfecv.fit(X_train, y_train)\n",
        "\n",
        "for i in range(X.shape[1]):\n",
        "    print(column_name[i],': Selected %s, Rank: %.3f' % (rfecv.support_[i], rfecv.ranking_[i]))"
      ]
    },
    {
      "cell_type": "code",
      "execution_count": 56,
      "metadata": {
        "id": "aL6HWezfWIBW"
      },
      "outputs": [
        {
          "data": {
            "text/plain": [
              "Int64Index([ 0,  1,  2,  3,  4,  5,  6,  7,  8,  9, 10, 11, 12, 13, 14, 15, 16,\n",
              "            17, 18, 20, 22, 23, 24, 25, 26, 27, 28, 29],\n",
              "           dtype='int64')"
            ]
          },
          "execution_count": 56,
          "metadata": {},
          "output_type": "execute_result"
        }
      ],
      "source": [
        "X_train.columns[rfecv.support_]"
      ]
    },
    {
      "cell_type": "code",
      "execution_count": 57,
      "metadata": {
        "id": "_N3mO340WIBW"
      },
      "outputs": [
        {
          "name": "stdout",
          "output_type": "stream",
          "text": [
            "Optimal number of features: 28\n"
          ]
        }
      ],
      "source": [
        "print('Optimal number of features: {}'.format(rfecv.n_features_))"
      ]
    },
    {
      "cell_type": "code",
      "execution_count": 58,
      "metadata": {
        "id": "S4O6PJlKWIBW"
      },
      "outputs": [
        {
          "name": "stdout",
          "output_type": "stream",
          "text": [
            "[0, 1, 2, 3, 4, 5, 6, 7, 8, 9, 10, 11, 12, 13, 14, 15, 16, 17, 18, 20, 22, 23, 24, 25, 26, 27, 28, 29]\n"
          ]
        }
      ],
      "source": [
        "feature_importance = list(zip(column_name, rfecv.support_))\n",
        "new_features = []\n",
        "for key,value in enumerate(feature_importance):\n",
        "    if(value[1]) == True:\n",
        "        new_features.append(value[0])\n",
        "        \n",
        "print(new_features)"
      ]
    },
    {
      "cell_type": "code",
      "execution_count": 59,
      "metadata": {
        "id": "kNiFedrNWIBW"
      },
      "outputs": [],
      "source": [
        "X_new = data[new_features]\n",
        "X_new.head()\n",
        "\n",
        "X_train_new, X_test_new, y_train, y_test = train_test_split(X_new, y, \n",
        "                                                    test_size = 0.2, random_state = 12)"
      ]
    },
    {
      "cell_type": "code",
      "execution_count": 60,
      "metadata": {
        "id": "x_x-rTtSWIBW"
      },
      "outputs": [
        {
          "name": "stdout",
          "output_type": "stream",
          "text": [
            "SVM: Feature Selection Accuracy: 94.844\n",
            "              precision    recall  f1-score   support\n",
            "\n",
            "           0       0.96      0.92      0.94       994\n",
            "           1       0.94      0.97      0.95      1217\n",
            "\n",
            "    accuracy                           0.95      2211\n",
            "   macro avg       0.95      0.95      0.95      2211\n",
            "weighted avg       0.95      0.95      0.95      2211\n",
            "\n"
          ]
        }
      ],
      "source": [
        "svm = SVC(random_state=0, probability=True)\n",
        "\n",
        "svm.fit(X_train_new,y_train)\n",
        "\n",
        "y_train_svm = svm.predict(X_train_new)\n",
        "y_test_svm =svm.predict(X_test_new)\n",
        "\n",
        "\n",
        "#computing the accuracy of the model performance\n",
        "acc_train_svm= accuracy_score(y_train,y_train_svm)\n",
        "acc_test_svm = accuracy_score(y_test,y_test_svm)\n",
        "\n",
        "# print(\"SVM: Accuracy on training Data: {:.3f}\".format(acc_train_svm))\n",
        "print(\"SVM: Feature Selection Accuracy: {:.3f}\".format(acc_test_svm*100))\n",
        "\n",
        "print(classification_report(y_test, y_test_svm))"
      ]
    },
    {
      "cell_type": "code",
      "execution_count": 61,
      "metadata": {
        "id": "eZmGthaDWIBX"
      },
      "outputs": [
        {
          "name": "stdout",
          "output_type": "stream",
          "text": [
            "Fitting 20 folds for each of 18 candidates, totalling 360 fits\n",
            "Best Score:0.9592972125471126\n",
            "Best Parameters: {'C': 1, 'gamma': 0.1, 'kernel': 'rbf'}\n",
            "{'C': 1, 'gamma': 0.1, 'kernel': 'rbf'}\n"
          ]
        }
      ],
      "source": [
        "from sklearn.model_selection import GridSearchCV, cross_val_score\n",
        "param_grid = {\n",
        "         'C':[0.1,0.5,1],\n",
        "         'gamma':[0.1,0.5,1],\n",
        "         'kernel':['rbf','linear']\n",
        "        }\n",
        "grid = GridSearchCV(estimator = svm, param_grid = param_grid , scoring = 'accuracy', verbose = 1, n_jobs = -1, cv = 20)\n",
        "grid.fit(X_train_new,y_train)\n",
        "print(\"Best Score:\" + str(grid.best_score_))\n",
        "print(\"Best Parameters: \" + str(grid.best_params_))\n",
        "best_parameters = grid.best_params_\n",
        "print(best_parameters)"
      ]
    },
    {
      "cell_type": "code",
      "execution_count": 62,
      "metadata": {
        "id": "bEDqzQLXWIBX"
      },
      "outputs": [
        {
          "name": "stdout",
          "output_type": "stream",
          "text": [
            "SVM: Hyper Parameter Tuning Accuracy:95.975\n",
            "              precision    recall  f1-score   support\n",
            "\n",
            "           0       0.97      0.94      0.95       994\n",
            "           1       0.95      0.97      0.96      1217\n",
            "\n",
            "    accuracy                           0.96      2211\n",
            "   macro avg       0.96      0.96      0.96      2211\n",
            "weighted avg       0.96      0.96      0.96      2211\n",
            "\n"
          ]
        }
      ],
      "source": [
        "svm = SVC(**best_parameters, random_state=0, probability=True)\n",
        "\n",
        "svm.fit(X_train_new,y_train)\n",
        "\n",
        "y_train_svm = svm.predict(X_train_new)\n",
        "y_test_svm =svm.predict(X_test_new)\n",
        "\n",
        "\n",
        "#computing the accuracy of the model performance\n",
        "acc_train_svm= accuracy_score(y_train,y_train_svm)\n",
        "acc_test_svm = accuracy_score(y_test,y_test_svm)\n",
        "\n",
        "# print(\"SVM: Accuracy on training Data: {:.3f}\".format(acc_train_svm))\n",
        "print(\"SVM: Hyper Parameter Tuning Accuracy:{:.3f}\".format(acc_test_svm*100.0))\n",
        "\n",
        "print(classification_report(y_test, y_test_svm))"
      ]
    },
    {
      "cell_type": "code",
      "execution_count": 63,
      "metadata": {
        "id": "xtiawsuvrSkI"
      },
      "outputs": [],
      "source": [
        "svm_y_pred = svm.predict_proba(X_test_new)[:,1]\n",
        "svm_fpr, svm_tpr, svm_thresholds = roc_curve(y_test, svm_y_pred)"
      ]
    },
    {
      "cell_type": "markdown",
      "metadata": {
        "id": "YL-tADaJrcwf"
      },
      "source": [
        "# ROC\n"
      ]
    },
    {
      "cell_type": "code",
      "execution_count": 64,
      "metadata": {
        "id": "EM2RmxwHsecG"
      },
      "outputs": [
        {
          "data": {
            "image/png": "[encoded data removed]",
            "text/plain": [
              "<Figure size 1200x500 with 1 Axes>"
            ]
          },
          "metadata": {},
          "output_type": "display_data"
        }
      ],
      "source": [
        "from sklearn.metrics import roc_curve\n",
        "import matplotlib.pyplot as plt\n",
        "\n",
        "# plot ROC curves\n",
        "plt.figure(figsize=(12,5))\n",
        "plt.title('Optimized ROC AUC Curve')\n",
        "plt.plot(xgb_fpr, xgb_tpr,label='XGBoost')\n",
        "plt.plot(svm_fpr, svm_tpr,label='SVM')\n",
        "plt.plot(logi_fpr, logi_tpr,label='Logistic Regression')\n",
        "plt.plot(rf_fpr, rf_tpr,label='Random Forest')\n",
        "plt.plot(dt_fpr, dt_tpr,label='Decision Tree')\n",
        "plt.xlabel('False Positive Rate')\n",
        "plt.ylabel('True Positive Rate')\n",
        "plt.legend()\n",
        "plt.show()"
      ]
    }
  ],
  "metadata": {
    "colab": {
      "collapsed_sections": [
        "miiicY0AWIBR",
        "krBmD680WIBX",
        "yxHe_tSyWIBa",
        "NbDagEY6WIBU"
      ],
      "provenance": []
    },
    "kernelspec": {
      "display_name": "Python 3",
      "language": "python",
      "name": "python3"
    },
    "language_info": {
      "codemirror_mode": {
        "name": "ipython",
        "version": 3
      },
      "file_extension": ".py",
      "mimetype": "text/x-python",
      "name": "python",
      "nbconvert_exporter": "python",
      "pygments_lexer": "ipython3",
      "version": "3.11.1"
    },
    "orig_nbformat": 4,
    "vscode": {
      "interpreter": {
        "hash": "0c8015d7eea1bc8c32c2b00426f12c05eb126c61440d292a0d92661f2d06a482"
      }
    }
  },
  "nbformat": 4,
  "nbformat_minor": 0
}
