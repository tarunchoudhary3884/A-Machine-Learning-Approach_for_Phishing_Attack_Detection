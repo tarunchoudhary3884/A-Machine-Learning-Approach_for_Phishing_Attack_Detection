{
 "cells": [
  {
   "cell_type": "code",
   "execution_count": 97,
   "metadata": {},
   "outputs": [],
   "source": [
    "#importing basic packages\n",
    "import pandas as pd\n",
    "import numpy as np\n",
    "import matplotlib.pyplot as plt"
   ]
  },
  {
   "cell_type": "code",
   "execution_count": 98,
   "metadata": {},
   "outputs": [],
   "source": [
    "data = pd.read_csv('Training Dataset.arff', header=None, comment='@')\n",
    "# data = pd.read_csv(\"urldata.csv\")\n",
    "# data = data.drop(['Domain'], axis = 1).copy()"
   ]
  },
  {
   "cell_type": "code",
   "execution_count": 99,
   "metadata": {},
   "outputs": [
    {
     "data": {
      "text/plain": [
       "0     0\n",
       "1     0\n",
       "2     0\n",
       "3     0\n",
       "4     0\n",
       "5     0\n",
       "6     0\n",
       "7     0\n",
       "8     0\n",
       "9     0\n",
       "10    0\n",
       "11    0\n",
       "12    0\n",
       "13    0\n",
       "14    0\n",
       "15    0\n",
       "16    0\n",
       "17    0\n",
       "18    0\n",
       "19    0\n",
       "20    0\n",
       "21    0\n",
       "22    0\n",
       "23    0\n",
       "24    0\n",
       "25    0\n",
       "26    0\n",
       "27    0\n",
       "28    0\n",
       "29    0\n",
       "30    0\n",
       "dtype: int64"
      ]
     },
     "execution_count": 99,
     "metadata": {},
     "output_type": "execute_result"
    }
   ],
   "source": [
    "data.isnull().sum()"
   ]
  },
  {
   "cell_type": "code",
   "execution_count": 100,
   "metadata": {},
   "outputs": [
    {
     "data": {
      "text/html": [
       "<div>\n",
       "<style scoped>\n",
       "    .dataframe tbody tr th:only-of-type {\n",
       "        vertical-align: middle;\n",
       "    }\n",
       "\n",
       "    .dataframe tbody tr th {\n",
       "        vertical-align: top;\n",
       "    }\n",
       "\n",
       "    .dataframe thead th {\n",
       "        text-align: right;\n",
       "    }\n",
       "</style>\n",
       "<table border=\"1\" class=\"dataframe\">\n",
       "  <thead>\n",
       "    <tr style=\"text-align: right;\">\n",
       "      <th></th>\n",
       "      <th>0</th>\n",
       "      <th>1</th>\n",
       "      <th>2</th>\n",
       "      <th>3</th>\n",
       "      <th>4</th>\n",
       "      <th>5</th>\n",
       "      <th>6</th>\n",
       "      <th>7</th>\n",
       "      <th>8</th>\n",
       "      <th>9</th>\n",
       "      <th>...</th>\n",
       "      <th>21</th>\n",
       "      <th>22</th>\n",
       "      <th>23</th>\n",
       "      <th>24</th>\n",
       "      <th>25</th>\n",
       "      <th>26</th>\n",
       "      <th>27</th>\n",
       "      <th>28</th>\n",
       "      <th>29</th>\n",
       "      <th>30</th>\n",
       "    </tr>\n",
       "  </thead>\n",
       "  <tbody>\n",
       "    <tr>\n",
       "      <th>0</th>\n",
       "      <td>1</td>\n",
       "      <td>-1</td>\n",
       "      <td>1</td>\n",
       "      <td>1</td>\n",
       "      <td>1</td>\n",
       "      <td>-1</td>\n",
       "      <td>-1</td>\n",
       "      <td>-1</td>\n",
       "      <td>1</td>\n",
       "      <td>1</td>\n",
       "      <td>...</td>\n",
       "      <td>1</td>\n",
       "      <td>1</td>\n",
       "      <td>1</td>\n",
       "      <td>-1</td>\n",
       "      <td>1</td>\n",
       "      <td>-1</td>\n",
       "      <td>1</td>\n",
       "      <td>1</td>\n",
       "      <td>1</td>\n",
       "      <td>1</td>\n",
       "    </tr>\n",
       "    <tr>\n",
       "      <th>1</th>\n",
       "      <td>1</td>\n",
       "      <td>-1</td>\n",
       "      <td>1</td>\n",
       "      <td>1</td>\n",
       "      <td>1</td>\n",
       "      <td>-1</td>\n",
       "      <td>1</td>\n",
       "      <td>1</td>\n",
       "      <td>-1</td>\n",
       "      <td>1</td>\n",
       "      <td>...</td>\n",
       "      <td>1</td>\n",
       "      <td>1</td>\n",
       "      <td>-1</td>\n",
       "      <td>1</td>\n",
       "      <td>1</td>\n",
       "      <td>-1</td>\n",
       "      <td>1</td>\n",
       "      <td>0</td>\n",
       "      <td>1</td>\n",
       "      <td>1</td>\n",
       "    </tr>\n",
       "    <tr>\n",
       "      <th>2</th>\n",
       "      <td>1</td>\n",
       "      <td>-1</td>\n",
       "      <td>1</td>\n",
       "      <td>1</td>\n",
       "      <td>1</td>\n",
       "      <td>-1</td>\n",
       "      <td>1</td>\n",
       "      <td>-1</td>\n",
       "      <td>1</td>\n",
       "      <td>1</td>\n",
       "      <td>...</td>\n",
       "      <td>1</td>\n",
       "      <td>1</td>\n",
       "      <td>-1</td>\n",
       "      <td>1</td>\n",
       "      <td>-1</td>\n",
       "      <td>1</td>\n",
       "      <td>1</td>\n",
       "      <td>0</td>\n",
       "      <td>1</td>\n",
       "      <td>-1</td>\n",
       "    </tr>\n",
       "    <tr>\n",
       "      <th>3</th>\n",
       "      <td>1</td>\n",
       "      <td>-1</td>\n",
       "      <td>1</td>\n",
       "      <td>1</td>\n",
       "      <td>1</td>\n",
       "      <td>-1</td>\n",
       "      <td>1</td>\n",
       "      <td>1</td>\n",
       "      <td>1</td>\n",
       "      <td>1</td>\n",
       "      <td>...</td>\n",
       "      <td>1</td>\n",
       "      <td>1</td>\n",
       "      <td>1</td>\n",
       "      <td>-1</td>\n",
       "      <td>-1</td>\n",
       "      <td>-1</td>\n",
       "      <td>1</td>\n",
       "      <td>1</td>\n",
       "      <td>1</td>\n",
       "      <td>-1</td>\n",
       "    </tr>\n",
       "    <tr>\n",
       "      <th>4</th>\n",
       "      <td>-1</td>\n",
       "      <td>-1</td>\n",
       "      <td>1</td>\n",
       "      <td>1</td>\n",
       "      <td>1</td>\n",
       "      <td>-1</td>\n",
       "      <td>0</td>\n",
       "      <td>-1</td>\n",
       "      <td>-1</td>\n",
       "      <td>1</td>\n",
       "      <td>...</td>\n",
       "      <td>1</td>\n",
       "      <td>1</td>\n",
       "      <td>-1</td>\n",
       "      <td>1</td>\n",
       "      <td>1</td>\n",
       "      <td>-1</td>\n",
       "      <td>1</td>\n",
       "      <td>0</td>\n",
       "      <td>1</td>\n",
       "      <td>-1</td>\n",
       "    </tr>\n",
       "  </tbody>\n",
       "</table>\n",
       "<p>5 rows × 31 columns</p>\n",
       "</div>"
      ],
      "text/plain": [
       "   0   1   2   3   4   5   6   7   8   9   ...  21  22  23  24  25  26  27  \\\n",
       "0   1  -1   1   1   1  -1  -1  -1   1   1  ...   1   1   1  -1   1  -1   1   \n",
       "1   1  -1   1   1   1  -1   1   1  -1   1  ...   1   1  -1   1   1  -1   1   \n",
       "2   1  -1   1   1   1  -1   1  -1   1   1  ...   1   1  -1   1  -1   1   1   \n",
       "3   1  -1   1   1   1  -1   1   1   1   1  ...   1   1   1  -1  -1  -1   1   \n",
       "4  -1  -1   1   1   1  -1   0  -1  -1   1  ...   1   1  -1   1   1  -1   1   \n",
       "\n",
       "   28  29  30  \n",
       "0   1   1   1  \n",
       "1   0   1   1  \n",
       "2   0   1  -1  \n",
       "3   1   1  -1  \n",
       "4   0   1  -1  \n",
       "\n",
       "[5 rows x 31 columns]"
      ]
     },
     "execution_count": 100,
     "metadata": {},
     "output_type": "execute_result"
    }
   ],
   "source": [
    "# shuffling the rows in the dataset so that when splitting the train and test set are equally distributed\n",
    "data = data.sample(frac=1).reset_index(drop=True)\n",
    "data.head()"
   ]
  },
  {
   "cell_type": "code",
   "execution_count": 101,
   "metadata": {},
   "outputs": [],
   "source": [
    "# Sepratating & assigning features and target columns to X & y\n",
    "# y = data['Label']\n",
    "# X = data.drop('Label',axis=1)\n",
    "X = data.iloc[:, :-1]\n",
    "y = data.iloc[:, -1]"
   ]
  },
  {
   "cell_type": "code",
   "execution_count": 102,
   "metadata": {},
   "outputs": [],
   "source": [
    "X.shape, y.shape\n",
    "\n",
    "column_name=list(X.columns)"
   ]
  },
  {
   "cell_type": "code",
   "execution_count": 103,
   "metadata": {},
   "outputs": [
    {
     "data": {
      "text/plain": [
       "((8844, 30), (2211, 30))"
      ]
     },
     "execution_count": 103,
     "metadata": {},
     "output_type": "execute_result"
    }
   ],
   "source": [
    "# Splitting the dataset into train and test sets: 80-20 split\n",
    "from sklearn.model_selection import train_test_split\n",
    "\n",
    "X_train, X_test, y_train, y_test = train_test_split(X, y, \n",
    "                                                    test_size = 0.2, random_state = 12)\n",
    "X_train.shape, X_test.shape"
   ]
  },
  {
   "cell_type": "markdown",
   "metadata": {},
   "source": [
    "# Logistic Regression"
   ]
  },
  {
   "cell_type": "code",
   "execution_count": 104,
   "metadata": {},
   "outputs": [
    {
     "name": "stdout",
     "output_type": "stream",
     "text": [
      "Logistic Regression: Accuracy on training Data: 92.877\n",
      "Logistic Regression: Accuracy on test Data: 92.718\n",
      "              precision    recall  f1-score   support\n",
      "\n",
      "          -1       0.94      0.90      0.92      1022\n",
      "           1       0.92      0.95      0.93      1189\n",
      "\n",
      "    accuracy                           0.93      2211\n",
      "   macro avg       0.93      0.93      0.93      2211\n",
      "weighted avg       0.93      0.93      0.93      2211\n",
      "\n"
     ]
    }
   ],
   "source": [
    "from sklearn.linear_model import LogisticRegression\n",
    "from sklearn.metrics import accuracy_score\n",
    "from sklearn.metrics import classification_report\n",
    "import warnings\n",
    "warnings.filterwarnings('ignore')\n",
    "\n",
    "logi=LogisticRegression(random_state=0)\n",
    "logi.fit(X_train, y_train)\n",
    "\n",
    "y_train_logi = logi.predict(X_train)\n",
    "y_test_logi =logi.predict(X_test)\n",
    "\n",
    "\n",
    "#computing the accuracy of the model performance\n",
    "acc_train_logi= accuracy_score(y_train,y_train_logi)\n",
    "acc_test_logi = accuracy_score(y_test,y_test_logi)\n",
    "\n",
    "print(\"Logistic Regression: Accuracy on training Data: {:.3f}\".format(acc_train_logi*100))\n",
    "print(\"Logistic Regression: Accuracy on test Data: {:.3f}\".format(acc_test_logi*100))\n",
    "\n",
    "print(classification_report(y_test, y_test_logi))"
   ]
  },
  {
   "cell_type": "code",
   "execution_count": 105,
   "metadata": {},
   "outputs": [
    {
     "name": "stdout",
     "output_type": "stream",
     "text": [
      "Logistic K-Fold Accuracy: 92.700% (0.586%)\n"
     ]
    }
   ],
   "source": [
    "from sklearn.model_selection import KFold\n",
    "from sklearn.model_selection import cross_val_score\n",
    "kfold = KFold(n_splits=5, random_state=0, shuffle=True)\n",
    "results = cross_val_score(logi, X, y, cv=kfold)\n",
    "print(\"Logistic K-Fold Accuracy: %.3f%% (%.3f%%)\" % (results.mean()*100.0, results.std()*100.0))"
   ]
  },
  {
   "cell_type": "code",
   "execution_count": 106,
   "metadata": {},
   "outputs": [
    {
     "name": "stdout",
     "output_type": "stream",
     "text": [
      "0 : Selected True, Rank: 1.000\n",
      "1 : Selected False, Rank: 6.000\n",
      "2 : Selected True, Rank: 1.000\n",
      "3 : Selected False, Rank: 2.000\n",
      "4 : Selected False, Rank: 12.000\n",
      "5 : Selected True, Rank: 1.000\n",
      "6 : Selected True, Rank: 1.000\n",
      "7 : Selected True, Rank: 1.000\n",
      "8 : Selected False, Rank: 13.000\n",
      "9 : Selected True, Rank: 1.000\n",
      "10 : Selected True, Rank: 1.000\n",
      "11 : Selected True, Rank: 1.000\n",
      "12 : Selected False, Rank: 3.000\n",
      "13 : Selected True, Rank: 1.000\n",
      "14 : Selected True, Rank: 1.000\n",
      "15 : Selected True, Rank: 1.000\n",
      "16 : Selected True, Rank: 1.000\n",
      "17 : Selected False, Rank: 8.000\n",
      "18 : Selected True, Rank: 1.000\n",
      "19 : Selected False, Rank: 9.000\n",
      "20 : Selected False, Rank: 5.000\n",
      "21 : Selected False, Rank: 11.000\n",
      "22 : Selected False, Rank: 4.000\n",
      "23 : Selected False, Rank: 10.000\n",
      "24 : Selected True, Rank: 1.000\n",
      "25 : Selected True, Rank: 1.000\n",
      "26 : Selected False, Rank: 7.000\n",
      "27 : Selected True, Rank: 1.000\n",
      "28 : Selected True, Rank: 1.000\n",
      "29 : Selected True, Rank: 1.000\n"
     ]
    }
   ],
   "source": [
    "from sklearn.feature_selection import RFECV\n",
    "\n",
    "## create ranking among all features by selecting only one\n",
    "rfecv = RFECV(estimator=logi, step=1, cv=20, scoring='accuracy')\n",
    "rfecv.fit(X_train, y_train)\n",
    "\n",
    "for i in range(X.shape[1]):\n",
    "    print(column_name[i],': Selected %s, Rank: %.3f' % (rfecv.support_[i], rfecv.ranking_[i]))\n"
   ]
  },
  {
   "cell_type": "code",
   "execution_count": 107,
   "metadata": {},
   "outputs": [
    {
     "data": {
      "text/plain": [
       "Int64Index([0, 2, 5, 6, 7, 9, 10, 11, 13, 14, 15, 16, 18, 24, 25, 27, 28, 29], dtype='int64')"
      ]
     },
     "execution_count": 107,
     "metadata": {},
     "output_type": "execute_result"
    }
   ],
   "source": [
    "X_train.columns[rfecv.support_]"
   ]
  },
  {
   "cell_type": "code",
   "execution_count": 108,
   "metadata": {},
   "outputs": [
    {
     "name": "stdout",
     "output_type": "stream",
     "text": [
      "Optimal number of features: 18\n"
     ]
    }
   ],
   "source": [
    "print('Optimal number of features: {}'.format(rfecv.n_features_))"
   ]
  },
  {
   "cell_type": "code",
   "execution_count": 109,
   "metadata": {},
   "outputs": [
    {
     "name": "stdout",
     "output_type": "stream",
     "text": [
      "[0, 2, 5, 6, 7, 9, 10, 11, 13, 14, 15, 16, 18, 24, 25, 27, 28, 29]\n"
     ]
    }
   ],
   "source": [
    "feature_importance = list(zip(column_name, rfecv.support_))\n",
    "new_features = []\n",
    "for key,value in enumerate(feature_importance):\n",
    "    if(value[1]) == True:\n",
    "        new_features.append(value[0])\n",
    "        \n",
    "print(new_features)"
   ]
  },
  {
   "cell_type": "code",
   "execution_count": 110,
   "metadata": {},
   "outputs": [],
   "source": [
    "X_new = data[new_features]\n",
    "X_new.head()\n",
    "\n",
    "X_train_new, X_test_new, y_train, y_test = train_test_split(X_new, y, \n",
    "                                                    test_size = 0.2, random_state = 12)"
   ]
  },
  {
   "cell_type": "code",
   "execution_count": 111,
   "metadata": {},
   "outputs": [
    {
     "name": "stdout",
     "output_type": "stream",
     "text": [
      "Logistic Regression: Feature Selection Accuracy: 92.763\n",
      "              precision    recall  f1-score   support\n",
      "\n",
      "          -1       0.94      0.90      0.92      1022\n",
      "           1       0.92      0.95      0.93      1189\n",
      "\n",
      "    accuracy                           0.93      2211\n",
      "   macro avg       0.93      0.93      0.93      2211\n",
      "weighted avg       0.93      0.93      0.93      2211\n",
      "\n"
     ]
    }
   ],
   "source": [
    "logi = LogisticRegression(random_state=0)\n",
    "\n",
    "logi.fit(X_train_new,y_train)\n",
    "\n",
    "y_train_logi = logi.predict(X_train_new)\n",
    "y_test_logi =logi.predict(X_test_new)\n",
    "\n",
    "\n",
    "#computing the accuracy of the model performance\n",
    "acc_train_logi= accuracy_score(y_train,y_train_logi)\n",
    "acc_test_logi = accuracy_score(y_test,y_test_logi)\n",
    "\n",
    "# print(\"Logistic Regression: Accuracy on training Data: {:.3f}\".format(acc_train_logi))\n",
    "print(\"Logistic Regression: Feature Selection Accuracy: {:.3f}\".format(acc_test_logi*100.0))\n",
    "\n",
    "print(classification_report(y_test, y_test_logi))"
   ]
  },
  {
   "cell_type": "code",
   "execution_count": 112,
   "metadata": {},
   "outputs": [
    {
     "name": "stdout",
     "output_type": "stream",
     "text": [
      "Fitting 20 folds for each of 72 candidates, totalling 1440 fits\n",
      "Best Score:0.9288785839044769\n",
      "Best Parameters: {'C': 10, 'class_weight': None, 'penalty': 'l2', 'solver': 'newton-cg'}\n",
      "{'C': 10, 'class_weight': None, 'penalty': 'l2', 'solver': 'newton-cg'}\n"
     ]
    }
   ],
   "source": [
    "from sklearn.model_selection import GridSearchCV, cross_val_score\n",
    "param_grid = {'class_weight' : ['balanced', None], \n",
    "                'penalty' : ['l2','l1'],  \n",
    "                'C' : [0.1, 1, 10,30,50, 100],\n",
    "                'solver': ['newton-cg', 'lbfgs', 'liblinear']\n",
    "                }\n",
    "grid = GridSearchCV(estimator = logi, param_grid = param_grid , scoring = 'accuracy', verbose = 1, n_jobs = -1, cv=20)\n",
    "grid.fit(X_train_new,y_train)\n",
    "print(\"Best Score:\" + str(grid.best_score_))\n",
    "print(\"Best Parameters: \" + str(grid.best_params_))\n",
    "best_parameters = grid.best_params_\n",
    "print(best_parameters)"
   ]
  },
  {
   "cell_type": "code",
   "execution_count": 113,
   "metadata": {},
   "outputs": [
    {
     "name": "stdout",
     "output_type": "stream",
     "text": [
      "Logistic Regression: Hyper Parameter Tuning Accuracy:92.763\n",
      "              precision    recall  f1-score   support\n",
      "\n",
      "          -1       0.94      0.90      0.92      1022\n",
      "           1       0.92      0.95      0.93      1189\n",
      "\n",
      "    accuracy                           0.93      2211\n",
      "   macro avg       0.93      0.93      0.93      2211\n",
      "weighted avg       0.93      0.93      0.93      2211\n",
      "\n"
     ]
    }
   ],
   "source": [
    "logi = LogisticRegression(**best_parameters, random_state=0)\n",
    "\n",
    "logi.fit(X_train_new,y_train)\n",
    "\n",
    "y_train_logi = logi.predict(X_train_new)\n",
    "y_test_logi =logi.predict(X_test_new)\n",
    "\n",
    "\n",
    "#computing the accuracy of the model performance\n",
    "acc_train_logi= accuracy_score(y_train,y_train_logi)\n",
    "acc_test_logi = accuracy_score(y_test,y_test_logi)\n",
    "\n",
    "# print(\"Logistic Regression: Accuracy on training Data: {:.3f}\".format(acc_train_logi))\n",
    "print(\"Logistic Regression: Hyper Parameter Tuning Accuracy:{:.3f}\".format(acc_test_logi*100.0))\n",
    "\n",
    "print(classification_report(y_test, y_test_logi))"
   ]
  },
  {
   "cell_type": "code",
   "execution_count": 115,
   "metadata": {},
   "outputs": [],
   "source": [
    "# Dump Model\n",
    "import pickle\n",
    "\n",
    "with open('logi.pkl', 'wb') as file:\n",
    "    pickle.dump(logi, file)"
   ]
  }
 ],
 "metadata": {
  "kernelspec": {
   "display_name": "Python 3",
   "language": "python",
   "name": "python3"
  },
  "language_info": {
   "codemirror_mode": {
    "name": "ipython",
    "version": 3
   },
   "file_extension": ".py",
   "mimetype": "text/x-python",
   "name": "python",
   "nbconvert_exporter": "python",
   "pygments_lexer": "ipython3",
   "version": "3.11.1"
  },
  "orig_nbformat": 4,
  "vscode": {
   "interpreter": {
    "hash": "0c8015d7eea1bc8c32c2b00426f12c05eb126c61440d292a0d92661f2d06a482"
   }
  }
 },
 "nbformat": 4,
 "nbformat_minor": 2
}
