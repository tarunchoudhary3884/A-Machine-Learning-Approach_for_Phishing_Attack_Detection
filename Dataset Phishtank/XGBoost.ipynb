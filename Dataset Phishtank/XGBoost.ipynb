{
 "cells": [
  {
   "cell_type": "code",
   "execution_count": 1,
   "metadata": {},
   "outputs": [],
   "source": [
    "#importing basic packages\n",
    "import pandas as pd\n",
    "import numpy as np\n",
    "import matplotlib.pyplot as plt"
   ]
  },
  {
   "cell_type": "code",
   "execution_count": 2,
   "metadata": {},
   "outputs": [],
   "source": [
    "data = pd.read_csv(\"urldata.csv\")\n",
    "# data = pd.read_csv('Training Dataset.arff', header=None, comment='@')\n",
    "data = data.drop(['Domain'], axis = 1).copy()"
   ]
  },
  {
   "cell_type": "code",
   "execution_count": 3,
   "metadata": {},
   "outputs": [
    {
     "data": {
      "text/plain": [
       "Have_IP          0\n",
       "Have_At          0\n",
       "URL_Length       0\n",
       "URL_Depth        0\n",
       "Redirection      0\n",
       "https_Domain     0\n",
       "TinyURL          0\n",
       "Prefix/Suffix    0\n",
       "DNS_Record       0\n",
       "Web_Traffic      0\n",
       "Domain_Age       0\n",
       "Domain_End       0\n",
       "iFrame           0\n",
       "Mouse_Over       0\n",
       "Right_Click      0\n",
       "Web_Forwards     0\n",
       "Google_Index     0\n",
       "count_dot        0\n",
       "count_www        0\n",
       "count_per        0\n",
       "count_ques       0\n",
       "count_hyphen     0\n",
       "count_equal      0\n",
       "Label            0\n",
       "dtype: int64"
      ]
     },
     "execution_count": 3,
     "metadata": {},
     "output_type": "execute_result"
    }
   ],
   "source": [
    "data.isnull().sum()"
   ]
  },
  {
   "cell_type": "code",
   "execution_count": 4,
   "metadata": {},
   "outputs": [
    {
     "data": {
      "text/html": [
       "<div>\n",
       "<style scoped>\n",
       "    .dataframe tbody tr th:only-of-type {\n",
       "        vertical-align: middle;\n",
       "    }\n",
       "\n",
       "    .dataframe tbody tr th {\n",
       "        vertical-align: top;\n",
       "    }\n",
       "\n",
       "    .dataframe thead th {\n",
       "        text-align: right;\n",
       "    }\n",
       "</style>\n",
       "<table border=\"1\" class=\"dataframe\">\n",
       "  <thead>\n",
       "    <tr style=\"text-align: right;\">\n",
       "      <th></th>\n",
       "      <th>Have_IP</th>\n",
       "      <th>Have_At</th>\n",
       "      <th>URL_Length</th>\n",
       "      <th>URL_Depth</th>\n",
       "      <th>Redirection</th>\n",
       "      <th>https_Domain</th>\n",
       "      <th>TinyURL</th>\n",
       "      <th>Prefix/Suffix</th>\n",
       "      <th>DNS_Record</th>\n",
       "      <th>Web_Traffic</th>\n",
       "      <th>...</th>\n",
       "      <th>Right_Click</th>\n",
       "      <th>Web_Forwards</th>\n",
       "      <th>Google_Index</th>\n",
       "      <th>count_dot</th>\n",
       "      <th>count_www</th>\n",
       "      <th>count_per</th>\n",
       "      <th>count_ques</th>\n",
       "      <th>count_hyphen</th>\n",
       "      <th>count_equal</th>\n",
       "      <th>Label</th>\n",
       "    </tr>\n",
       "  </thead>\n",
       "  <tbody>\n",
       "    <tr>\n",
       "      <th>0</th>\n",
       "      <td>0</td>\n",
       "      <td>0</td>\n",
       "      <td>1</td>\n",
       "      <td>2</td>\n",
       "      <td>0</td>\n",
       "      <td>0</td>\n",
       "      <td>0</td>\n",
       "      <td>0</td>\n",
       "      <td>0</td>\n",
       "      <td>0</td>\n",
       "      <td>...</td>\n",
       "      <td>1</td>\n",
       "      <td>0</td>\n",
       "      <td>1</td>\n",
       "      <td>1</td>\n",
       "      <td>0</td>\n",
       "      <td>0</td>\n",
       "      <td>0</td>\n",
       "      <td>8</td>\n",
       "      <td>0</td>\n",
       "      <td>0</td>\n",
       "    </tr>\n",
       "    <tr>\n",
       "      <th>1</th>\n",
       "      <td>0</td>\n",
       "      <td>0</td>\n",
       "      <td>0</td>\n",
       "      <td>0</td>\n",
       "      <td>0</td>\n",
       "      <td>0</td>\n",
       "      <td>0</td>\n",
       "      <td>1</td>\n",
       "      <td>0</td>\n",
       "      <td>1</td>\n",
       "      <td>...</td>\n",
       "      <td>1</td>\n",
       "      <td>1</td>\n",
       "      <td>1</td>\n",
       "      <td>1</td>\n",
       "      <td>0</td>\n",
       "      <td>0</td>\n",
       "      <td>0</td>\n",
       "      <td>1</td>\n",
       "      <td>0</td>\n",
       "      <td>1</td>\n",
       "    </tr>\n",
       "    <tr>\n",
       "      <th>2</th>\n",
       "      <td>0</td>\n",
       "      <td>0</td>\n",
       "      <td>1</td>\n",
       "      <td>1</td>\n",
       "      <td>0</td>\n",
       "      <td>0</td>\n",
       "      <td>0</td>\n",
       "      <td>0</td>\n",
       "      <td>0</td>\n",
       "      <td>1</td>\n",
       "      <td>...</td>\n",
       "      <td>1</td>\n",
       "      <td>0</td>\n",
       "      <td>1</td>\n",
       "      <td>2</td>\n",
       "      <td>0</td>\n",
       "      <td>0</td>\n",
       "      <td>0</td>\n",
       "      <td>12</td>\n",
       "      <td>0</td>\n",
       "      <td>0</td>\n",
       "    </tr>\n",
       "    <tr>\n",
       "      <th>3</th>\n",
       "      <td>0</td>\n",
       "      <td>0</td>\n",
       "      <td>0</td>\n",
       "      <td>0</td>\n",
       "      <td>0</td>\n",
       "      <td>0</td>\n",
       "      <td>0</td>\n",
       "      <td>1</td>\n",
       "      <td>0</td>\n",
       "      <td>1</td>\n",
       "      <td>...</td>\n",
       "      <td>1</td>\n",
       "      <td>0</td>\n",
       "      <td>1</td>\n",
       "      <td>2</td>\n",
       "      <td>0</td>\n",
       "      <td>0</td>\n",
       "      <td>0</td>\n",
       "      <td>1</td>\n",
       "      <td>0</td>\n",
       "      <td>1</td>\n",
       "    </tr>\n",
       "    <tr>\n",
       "      <th>4</th>\n",
       "      <td>0</td>\n",
       "      <td>0</td>\n",
       "      <td>1</td>\n",
       "      <td>3</td>\n",
       "      <td>0</td>\n",
       "      <td>0</td>\n",
       "      <td>0</td>\n",
       "      <td>0</td>\n",
       "      <td>0</td>\n",
       "      <td>0</td>\n",
       "      <td>...</td>\n",
       "      <td>1</td>\n",
       "      <td>0</td>\n",
       "      <td>1</td>\n",
       "      <td>1</td>\n",
       "      <td>0</td>\n",
       "      <td>16</td>\n",
       "      <td>0</td>\n",
       "      <td>0</td>\n",
       "      <td>0</td>\n",
       "      <td>0</td>\n",
       "    </tr>\n",
       "  </tbody>\n",
       "</table>\n",
       "<p>5 rows × 24 columns</p>\n",
       "</div>"
      ],
      "text/plain": [
       "   Have_IP  Have_At  URL_Length  URL_Depth  Redirection  https_Domain  \\\n",
       "0        0        0           1          2            0             0   \n",
       "1        0        0           0          0            0             0   \n",
       "2        0        0           1          1            0             0   \n",
       "3        0        0           0          0            0             0   \n",
       "4        0        0           1          3            0             0   \n",
       "\n",
       "   TinyURL  Prefix/Suffix  DNS_Record  Web_Traffic  ...  Right_Click  \\\n",
       "0        0              0           0            0  ...            1   \n",
       "1        0              1           0            1  ...            1   \n",
       "2        0              0           0            1  ...            1   \n",
       "3        0              1           0            1  ...            1   \n",
       "4        0              0           0            0  ...            1   \n",
       "\n",
       "   Web_Forwards  Google_Index  count_dot  count_www  count_per  count_ques  \\\n",
       "0             0             1          1          0          0           0   \n",
       "1             1             1          1          0          0           0   \n",
       "2             0             1          2          0          0           0   \n",
       "3             0             1          2          0          0           0   \n",
       "4             0             1          1          0         16           0   \n",
       "\n",
       "   count_hyphen  count_equal  Label  \n",
       "0             8            0      0  \n",
       "1             1            0      1  \n",
       "2            12            0      0  \n",
       "3             1            0      1  \n",
       "4             0            0      0  \n",
       "\n",
       "[5 rows x 24 columns]"
      ]
     },
     "execution_count": 4,
     "metadata": {},
     "output_type": "execute_result"
    }
   ],
   "source": [
    "# shuffling the rows in the dataset so that when splitting the train and test set are equally distributed\n",
    "data = data.sample(frac=1).reset_index(drop=True)\n",
    "data.head()"
   ]
  },
  {
   "cell_type": "code",
   "execution_count": 5,
   "metadata": {},
   "outputs": [],
   "source": [
    "# Sepratating & assigning features and target columns to X & y\n",
    "y = data['Label']\n",
    "X = data.drop('Label',axis=1)\n",
    "# X = data.iloc[:, :-1]\n",
    "# y = data.iloc[:, -1]\n",
    "X.shape, y.shape\n",
    "\n",
    "column_name=list(X.columns)\n",
    "\n",
    "# for i in range(0,y.shape[0]):\n",
    "#     y = [0 if i == -1 else i for i in y]\n",
    "# y\n"
   ]
  },
  {
   "cell_type": "code",
   "execution_count": 6,
   "metadata": {},
   "outputs": [
    {
     "data": {
      "text/plain": [
       "((8000, 23), (2000, 23))"
      ]
     },
     "execution_count": 6,
     "metadata": {},
     "output_type": "execute_result"
    }
   ],
   "source": [
    "# Splitting the dataset into train and test sets: 80-20 split\n",
    "from sklearn.model_selection import train_test_split\n",
    "\n",
    "X_train, X_test, y_train, y_test = train_test_split(X, y, \n",
    "                                                    test_size = 0.2, random_state = 12)\n",
    "X_train.shape, X_test.shape"
   ]
  },
  {
   "cell_type": "code",
   "execution_count": 7,
   "metadata": {},
   "outputs": [
    {
     "name": "stdout",
     "output_type": "stream",
     "text": [
      "XGBoost Accuracy on training Data: 99.125\n",
      "XGBoost Accuracy on test Data: 98.600\n",
      "              precision    recall  f1-score   support\n",
      "\n",
      "           0       0.99      0.99      0.99      1014\n",
      "           1       0.98      0.99      0.99       986\n",
      "\n",
      "    accuracy                           0.99      2000\n",
      "   macro avg       0.99      0.99      0.99      2000\n",
      "weighted avg       0.99      0.99      0.99      2000\n",
      "\n"
     ]
    }
   ],
   "source": [
    "from xgboost import XGBClassifier\n",
    "from sklearn.metrics import accuracy_score\n",
    "from sklearn.metrics import classification_report\n",
    "import warnings\n",
    "warnings.filterwarnings('ignore')\n",
    "\n",
    "xg=XGBClassifier(random_state=0)\n",
    "xg.fit(X_train, y_train)\n",
    "\n",
    "y_train_xg = xg.predict(X_train)\n",
    "y_test_xg =xg.predict(X_test)\n",
    "\n",
    "\n",
    "#computing the accuracy of the model performance\n",
    "acc_train_xg= accuracy_score(y_train,y_train_xg)\n",
    "acc_test_xg = accuracy_score(y_test,y_test_xg)\n",
    "\n",
    "print(\"XGBoost Accuracy on training Data: {:.3f}\".format(acc_train_xg*100))\n",
    "print(\"XGBoost Accuracy on test Data: {:.3f}\".format(acc_test_xg*100))\n",
    "\n",
    "print(classification_report(y_test, y_test_xg))"
   ]
  },
  {
   "cell_type": "code",
   "execution_count": 8,
   "metadata": {},
   "outputs": [
    {
     "name": "stdout",
     "output_type": "stream",
     "text": [
      "K-Fold Accuracy: 98.125% (0.244%)\n"
     ]
    }
   ],
   "source": [
    "from sklearn.model_selection import KFold\n",
    "\n",
    "from sklearn.model_selection import cross_val_score\n",
    "kfold = KFold(n_splits=10, random_state=0, shuffle=True)\n",
    "results = cross_val_score(xg, X_train, y_train, cv=kfold)\n",
    "print(\"K-Fold Accuracy: %.3f%% (%.3f%%)\" % (results.mean()*100.0, results.std()*100.0))"
   ]
  },
  {
   "cell_type": "code",
   "execution_count": 9,
   "metadata": {},
   "outputs": [
    {
     "name": "stdout",
     "output_type": "stream",
     "text": [
      "Have_IP : Selected False, Rank: 6.000\n",
      "Have_At : Selected True, Rank: 1.000\n",
      "URL_Length : Selected True, Rank: 1.000\n",
      "URL_Depth : Selected True, Rank: 1.000\n",
      "Redirection : Selected False, Rank: 2.000\n",
      "https_Domain : Selected False, Rank: 3.000\n",
      "TinyURL : Selected True, Rank: 1.000\n",
      "Prefix/Suffix : Selected True, Rank: 1.000\n",
      "DNS_Record : Selected True, Rank: 1.000\n",
      "Web_Traffic : Selected True, Rank: 1.000\n",
      "Domain_Age : Selected True, Rank: 1.000\n",
      "Domain_End : Selected True, Rank: 1.000\n",
      "iFrame : Selected True, Rank: 1.000\n",
      "Mouse_Over : Selected True, Rank: 1.000\n",
      "Right_Click : Selected False, Rank: 4.000\n",
      "Web_Forwards : Selected True, Rank: 1.000\n",
      "Google_Index : Selected False, Rank: 5.000\n",
      "count_dot : Selected True, Rank: 1.000\n",
      "count_www : Selected True, Rank: 1.000\n",
      "count_per : Selected True, Rank: 1.000\n",
      "count_ques : Selected True, Rank: 1.000\n",
      "count_hyphen : Selected True, Rank: 1.000\n",
      "count_equal : Selected True, Rank: 1.000\n"
     ]
    }
   ],
   "source": [
    "from sklearn.feature_selection import RFECV\n",
    "\n",
    "\n",
    "## create ranking among all features by selecting only one\n",
    "rfecv = RFECV(XGBClassifier(random_state=0), step=1, cv=10, scoring='accuracy')\n",
    "rfecv.fit(X_train, y_train)\n",
    "\n",
    "for i in range(X.shape[1]):\n",
    "    print(column_name[i],': Selected %s, Rank: %.3f' % (rfecv.support_[i], rfecv.ranking_[i]))\n"
   ]
  },
  {
   "cell_type": "code",
   "execution_count": 10,
   "metadata": {},
   "outputs": [
    {
     "data": {
      "text/plain": [
       "Index(['Have_At', 'URL_Length', 'URL_Depth', 'TinyURL', 'Prefix/Suffix',\n",
       "       'DNS_Record', 'Web_Traffic', 'Domain_Age', 'Domain_End', 'iFrame',\n",
       "       'Mouse_Over', 'Web_Forwards', 'count_dot', 'count_www', 'count_per',\n",
       "       'count_ques', 'count_hyphen', 'count_equal'],\n",
       "      dtype='object')"
      ]
     },
     "execution_count": 10,
     "metadata": {},
     "output_type": "execute_result"
    }
   ],
   "source": [
    "X_train.columns[rfecv.support_]"
   ]
  },
  {
   "cell_type": "code",
   "execution_count": 11,
   "metadata": {},
   "outputs": [
    {
     "name": "stdout",
     "output_type": "stream",
     "text": [
      "Optimal number of features: 18\n"
     ]
    }
   ],
   "source": [
    "print('Optimal number of features: {}'.format(rfecv.n_features_))"
   ]
  },
  {
   "cell_type": "code",
   "execution_count": 12,
   "metadata": {},
   "outputs": [
    {
     "name": "stdout",
     "output_type": "stream",
     "text": [
      "['Have_At', 'URL_Length', 'URL_Depth', 'TinyURL', 'Prefix/Suffix', 'DNS_Record', 'Web_Traffic', 'Domain_Age', 'Domain_End', 'iFrame', 'Mouse_Over', 'Web_Forwards', 'count_dot', 'count_www', 'count_per', 'count_ques', 'count_hyphen', 'count_equal']\n"
     ]
    }
   ],
   "source": [
    "feature_importance = list(zip(column_name, rfecv.support_))\n",
    "new_features = []\n",
    "for key,value in enumerate(feature_importance):\n",
    "    if(value[1]) == True:\n",
    "        new_features.append(value[0])\n",
    "        \n",
    "print(new_features)"
   ]
  },
  {
   "cell_type": "code",
   "execution_count": 13,
   "metadata": {},
   "outputs": [],
   "source": [
    "X_new = data[new_features]\n",
    "X_new.head()\n",
    "\n",
    "X_train_new, X_test_new, y_train, y_test = train_test_split(X_new, y, \n",
    "                                                    test_size = 0.2, random_state = 12)"
   ]
  },
  {
   "cell_type": "code",
   "execution_count": 14,
   "metadata": {},
   "outputs": [
    {
     "name": "stdout",
     "output_type": "stream",
     "text": [
      "Feature Selection Accuracy: 98.550\n",
      "              precision    recall  f1-score   support\n",
      "\n",
      "           0       0.99      0.99      0.99      1014\n",
      "           1       0.98      0.99      0.99       986\n",
      "\n",
      "    accuracy                           0.99      2000\n",
      "   macro avg       0.99      0.99      0.99      2000\n",
      "weighted avg       0.99      0.99      0.99      2000\n",
      "\n"
     ]
    }
   ],
   "source": [
    "xg = XGBClassifier(random_state=0)\n",
    "\n",
    "xg.fit(X_train_new,y_train)\n",
    "\n",
    "y_train_xg = xg.predict(X_train_new)\n",
    "y_test_xg =xg.predict(X_test_new)\n",
    "\n",
    "\n",
    "#computing the accuracy of the model performance\n",
    "acc_train_xg= accuracy_score(y_train,y_train_xg)\n",
    "acc_test_xg = accuracy_score(y_test,y_test_xg)\n",
    "\n",
    "# print(\"XGBoost Accuracy on training Data: {:.3f}\".format(acc_train_xg))\n",
    "print(\"Feature Selection Accuracy: {:.3f}\".format(acc_test_xg*100))\n",
    "\n",
    "print(classification_report(y_test, y_test_xg))"
   ]
  },
  {
   "cell_type": "code",
   "execution_count": 15,
   "metadata": {},
   "outputs": [
    {
     "name": "stdout",
     "output_type": "stream",
     "text": [
      "Fitting 10 folds for each of 60 candidates, totalling 600 fits\n",
      "Best Score:0.9818749999999999\n",
      "Best Parameters: {'learning_rate': 0.1, 'max_depth': 10, 'n_estimators': 200}\n",
      "{'learning_rate': 0.1, 'max_depth': 10, 'n_estimators': 200}\n"
     ]
    }
   ],
   "source": [
    "from sklearn.model_selection import GridSearchCV, cross_val_score\n",
    "param_grid = {\n",
    "    'max_depth': [5,10,15,20],\n",
    "              'n_estimators': [100, 200, 300],\n",
    "              'learning_rate': [0.1, 0.2, 0.3, 0.4, 0.5]}\n",
    "\n",
    "grid = GridSearchCV(estimator = xg, param_grid = param_grid , scoring = 'accuracy', verbose = 1, n_jobs = -1, cv =10)\n",
    "grid.fit(X_train_new,y_train)\n",
    "print(\"Best Score:\" + str(grid.best_score_))\n",
    "print(\"Best Parameters: \" + str(grid.best_params_))\n",
    "best_parameters = grid.best_params_\n",
    "print(best_parameters)"
   ]
  },
  {
   "cell_type": "code",
   "execution_count": 16,
   "metadata": {},
   "outputs": [
    {
     "name": "stdout",
     "output_type": "stream",
     "text": [
      "Hyper Parameter Accuracy 98.550\n",
      "              precision    recall  f1-score   support\n",
      "\n",
      "           0       0.99      0.99      0.99      1014\n",
      "           1       0.98      0.99      0.99       986\n",
      "\n",
      "    accuracy                           0.99      2000\n",
      "   macro avg       0.99      0.99      0.99      2000\n",
      "weighted avg       0.99      0.99      0.99      2000\n",
      "\n"
     ]
    }
   ],
   "source": [
    "xg = XGBClassifier(**best_parameters, random_state=0)\n",
    "\n",
    "xg.fit(X_train_new,y_train)\n",
    "\n",
    "y_train_xg = xg.predict(X_train_new)\n",
    "y_test_xg =xg.predict(X_test_new)\n",
    "\n",
    "\n",
    "#computing the accuracy of the model performance\n",
    "acc_train_xg= accuracy_score(y_train,y_train_xg)\n",
    "acc_test_xg = accuracy_score(y_test,y_test_xg)\n",
    "\n",
    "# print(\"XGBoost Accuracy on training Data: {:.3f}\".format(acc_train_xg))\n",
    "print(\"Hyper Parameter Accuracy {:.3f}\".format(acc_test_xg*100))\n",
    "\n",
    "print(classification_report(y_test, y_test_xg))"
   ]
  },
  {
   "cell_type": "code",
   "execution_count": 17,
   "metadata": {},
   "outputs": [],
   "source": [
    "import pickle\n",
    "\n",
    "with open('xg.pkl', 'wb') as file:\n",
    "    pickle.dump(xg, file)"
   ]
  }
 ],
 "metadata": {
  "kernelspec": {
   "display_name": "Python 3",
   "language": "python",
   "name": "python3"
  },
  "language_info": {
   "codemirror_mode": {
    "name": "ipython",
    "version": 3
   },
   "file_extension": ".py",
   "mimetype": "text/x-python",
   "name": "python",
   "nbconvert_exporter": "python",
   "pygments_lexer": "ipython3",
   "version": "3.10.10"
  },
  "orig_nbformat": 4,
  "vscode": {
   "interpreter": {
    "hash": "8e321f874bd28d5b1fac4ffc4c759e3512ce240ba3cace04aef32be714c0adb1"
   }
  }
 },
 "nbformat": 4,
 "nbformat_minor": 2
}
